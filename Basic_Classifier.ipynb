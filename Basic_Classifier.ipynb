{
 "cells": [
  {
   "cell_type": "markdown",
   "id": "7d62dca7",
   "metadata": {
    "papermill": {
     "duration": 0.013005,
     "end_time": "2022-12-16T04:41:13.583237",
     "exception": false,
     "start_time": "2022-12-16T04:41:13.570232",
     "status": "completed"
    },
    "tags": []
   },
   "source": [
    "# Data: Elliptic Data Set\n",
    "The Elliptic Dataset is a graph network of Bitcoin transactions with handcrafted features. All features are constructed using only publicly available information.\n",
    "\n",
    "The Elliptic DataSet maps Bitcoin transactions to real entities in two categories:\n",
    "\n",
    "Licit: exchanges, wallet providers, miners, licit services, etc.\n",
    "Ilicit: scams, malware, terrorist, organization, ransomware, Ponzi shcemes, etc\n",
    "A given transaction is licit if the entity that generated it was licit.\n",
    "\n",
    "Nodes and Edges 203,769 node transactions and 234,355 directed edge payments flows. 2% are ilicit (Class 1), 21% are licit (Class 2)\n",
    "Features Each node has associated 166 features. 94 represent local information (timestep, number of inputs/outputs, transaction fee, output volume and aggregated figures) and 72 features represent aggregated features (obtained by aggregating transaction information such as maximum, minimum, standard deviation, correlation coefficients of neighbor transactions).\n",
    "Temporal Information A time step is associated with each node, representing an stimated of the time when the transaction is confirmed. There are 49 distinct timesteps evenly spaced with an interval of 2 weeks."
   ]
  },
  {
   "cell_type": "markdown",
   "id": "ff76ca3f",
   "metadata": {
    "papermill": {
     "duration": 0.012622,
     "end_time": "2022-12-16T04:41:13.607169",
     "exception": false,
     "start_time": "2022-12-16T04:41:13.594547",
     "status": "completed"
    },
    "tags": []
   },
   "source": [
    "# Our Mehtods\n",
    "1. We use PCA to reduce dimension characteristics\n",
    "\n",
    "2. Experiments are done on different classifiers\n",
    "\n",
    "> Supervised: KNN, Bayes, SVM, Decision Tree\n",
    " \n",
    "> Unsupervised: Kmeans, DBSCAN\n",
    " \n",
    "> Semi-supervised: ANN\n",
    "\n",
    "3. Evaluation matrix The confusion matrix was used to calculate the accuracy, precision, recall, F-1score, ROC curve and AUC area\n",
    "\n",
    "4. Select the best method to predict unknown tags\n",
    "\n"
   ]
  },
  {
   "cell_type": "markdown",
   "id": "edb50678",
   "metadata": {
    "papermill": {
     "duration": 0.010911,
     "end_time": "2022-12-16T04:41:13.629845",
     "exception": false,
     "start_time": "2022-12-16T04:41:13.618934",
     "status": "completed"
    },
    "tags": []
   },
   "source": [
    "# 0. Import"
   ]
  },
  {
   "cell_type": "code",
   "execution_count": 1,
   "id": "a1976606",
   "metadata": {
    "execution": {
     "iopub.execute_input": "2022-12-16T04:41:13.659662Z",
     "iopub.status.busy": "2022-12-16T04:41:13.658898Z",
     "iopub.status.idle": "2022-12-16T04:41:23.031709Z",
     "shell.execute_reply": "2022-12-16T04:41:23.030434Z"
    },
    "papermill": {
     "duration": 9.389763,
     "end_time": "2022-12-16T04:41:23.034725",
     "exception": false,
     "start_time": "2022-12-16T04:41:13.644962",
     "status": "completed"
    },
    "tags": []
   },
   "outputs": [],
   "source": [
    "import numpy as np\n",
    "import pandas as pd\n",
    "import matplotlib.pyplot as plt\n",
    "import seaborn as sns\n",
    "import networkx as nx\n",
    "import sys\n",
    "import time\n",
    "from tqdm import tqdm\n",
    "\n",
    "import scipy\n",
    "import scipy.cluster.hierarchy as sch\n",
    "from scipy import interp\n",
    "from scipy.cluster.vq import vq,kmeans,whiten\n",
    "\n",
    "#import sklearn.datasets as datasets\n",
    "import sklearn\n",
    "from sklearn import preprocessing\n",
    "from sklearn.preprocessing import label_binarize\n",
    "from sklearn.preprocessing import OneHotEncoder,LabelEncoder\n",
    "from sklearn.preprocessing import LabelBinarizer\n",
    "\n",
    "from sklearn.decomposition import PCA\n",
    "from sklearn.model_selection import GridSearchCV\n",
    "from sklearn.model_selection import train_test_split\n",
    "\n",
    "from sklearn.metrics import accuracy_score  \n",
    "from sklearn.metrics import precision_score    \n",
    "from sklearn.metrics import recall_score      \n",
    "from sklearn.metrics import f1_score         \n",
    "from sklearn.metrics import log_loss\n",
    "from sklearn.metrics import roc_curve, auc\n",
    "from sklearn.metrics import roc_auc_score\n",
    "\n",
    "from sklearn.neighbors import KNeighborsClassifier\n",
    "from sklearn.cluster import DBSCAN\n",
    "from sklearn import metrics\n",
    "from sklearn.naive_bayes import GaussianNB\n",
    "from sklearn import svm\n",
    "from sklearn.tree import DecisionTreeClassifier\n",
    "\n",
    "from itertools import cycle\n",
    "\n",
    "from keras.utils import np_utils\n",
    "from keras.models import Sequential\n",
    "from keras.layers import Dense,Dropout"
   ]
  },
  {
   "cell_type": "markdown",
   "id": "a42bc8e5",
   "metadata": {
    "papermill": {
     "duration": 0.010987,
     "end_time": "2022-12-16T04:41:23.057194",
     "exception": false,
     "start_time": "2022-12-16T04:41:23.046207",
     "status": "completed"
    },
    "tags": []
   },
   "source": [
    "# 1. Dataset"
   ]
  },
  {
   "cell_type": "markdown",
   "id": "9be0fdd1",
   "metadata": {
    "papermill": {
     "duration": 0.010719,
     "end_time": "2022-12-16T04:41:23.078964",
     "exception": false,
     "start_time": "2022-12-16T04:41:23.068245",
     "status": "completed"
    },
    "tags": []
   },
   "source": [
    "Labels:\n",
    "* 'Unknown' -- 0\n",
    "* 'Ilicit' -- 1\n",
    "* 'Licit' -- 2"
   ]
  },
  {
   "cell_type": "code",
   "execution_count": 2,
   "id": "613f7dc9",
   "metadata": {
    "execution": {
     "iopub.execute_input": "2022-12-16T04:41:23.103099Z",
     "iopub.status.busy": "2022-12-16T04:41:23.102353Z",
     "iopub.status.idle": "2022-12-16T04:41:38.924741Z",
     "shell.execute_reply": "2022-12-16T04:41:38.923437Z"
    },
    "papermill": {
     "duration": 15.837712,
     "end_time": "2022-12-16T04:41:38.927628",
     "exception": false,
     "start_time": "2022-12-16T04:41:23.089916",
     "status": "completed"
    },
    "tags": []
   },
   "outputs": [],
   "source": [
    "df_classes = pd.read_csv(\"../input/elliptic-data-set/elliptic_bitcoin_dataset/elliptic_txs_classes.csv\")\n",
    "df_edges = pd.read_csv(\"../input/elliptic-data-set/elliptic_bitcoin_dataset/elliptic_txs_edgelist.csv\")\n",
    "df_features = pd.read_csv(\"../input/elliptic-data-set/elliptic_bitcoin_dataset/elliptic_txs_features.csv\", header=None)"
   ]
  },
  {
   "cell_type": "code",
   "execution_count": 3,
   "id": "fbba3878",
   "metadata": {
    "execution": {
     "iopub.execute_input": "2022-12-16T04:41:38.952585Z",
     "iopub.status.busy": "2022-12-16T04:41:38.952181Z",
     "iopub.status.idle": "2022-12-16T04:41:39.098434Z",
     "shell.execute_reply": "2022-12-16T04:41:39.097156Z"
    },
    "papermill": {
     "duration": 0.16222,
     "end_time": "2022-12-16T04:41:39.101183",
     "exception": false,
     "start_time": "2022-12-16T04:41:38.938963",
     "status": "completed"
    },
    "tags": []
   },
   "outputs": [],
   "source": [
    "colNames1 = {'0': 'txId', 1: \"Time step\"}\n",
    "colNames2 = {str(ii+2): \"Local_feature_\" + str(ii+1) for ii in range(93)}\n",
    "colNames3 = {str(ii+95): \"Aggregate_feature_\" + str(ii+1) for ii in range(72)}\n",
    "\n",
    "colNames = dict(colNames1, **colNames2, **colNames3 )\n",
    "colNames = {int(jj): item_kk for jj,item_kk in colNames.items()}\n",
    "\n",
    "df_features = df_features.rename(columns=colNames)"
   ]
  },
  {
   "cell_type": "code",
   "execution_count": 4,
   "id": "f480306a",
   "metadata": {
    "execution": {
     "iopub.execute_input": "2022-12-16T04:41:39.125300Z",
     "iopub.status.busy": "2022-12-16T04:41:39.124904Z",
     "iopub.status.idle": "2022-12-16T04:41:39.160724Z",
     "shell.execute_reply": "2022-12-16T04:41:39.159106Z"
    },
    "papermill": {
     "duration": 0.051086,
     "end_time": "2022-12-16T04:41:39.163400",
     "exception": false,
     "start_time": "2022-12-16T04:41:39.112314",
     "status": "completed"
    },
    "tags": []
   },
   "outputs": [
    {
     "name": "stdout",
     "output_type": "stream",
     "text": [
      "Shape of classes (203769, 2)\n",
      "Shape of edges (234355, 2)\n",
      "Shape of features (203769, 167)\n"
     ]
    }
   ],
   "source": [
    "df_classes.loc[df_classes['class'] == 'unknown', 'class'] = 0\n",
    "print('Shape of classes', df_classes.shape)\n",
    "print('Shape of edges', df_edges.shape)\n",
    "print('Shape of features', df_features.shape)"
   ]
  },
  {
   "cell_type": "code",
   "execution_count": 5,
   "id": "6c7d9436",
   "metadata": {
    "execution": {
     "iopub.execute_input": "2022-12-16T04:41:39.188388Z",
     "iopub.status.busy": "2022-12-16T04:41:39.187992Z",
     "iopub.status.idle": "2022-12-16T04:41:39.690169Z",
     "shell.execute_reply": "2022-12-16T04:41:39.688878Z"
    },
    "papermill": {
     "duration": 0.517636,
     "end_time": "2022-12-16T04:41:39.692673",
     "exception": false,
     "start_time": "2022-12-16T04:41:39.175037",
     "status": "completed"
    },
    "tags": []
   },
   "outputs": [
    {
     "data": {
      "text/html": [
       "<div>\n",
       "<style scoped>\n",
       "    .dataframe tbody tr th:only-of-type {\n",
       "        vertical-align: middle;\n",
       "    }\n",
       "\n",
       "    .dataframe tbody tr th {\n",
       "        vertical-align: top;\n",
       "    }\n",
       "\n",
       "    .dataframe thead th {\n",
       "        text-align: right;\n",
       "    }\n",
       "</style>\n",
       "<table border=\"1\" class=\"dataframe\">\n",
       "  <thead>\n",
       "    <tr style=\"text-align: right;\">\n",
       "      <th></th>\n",
       "      <th>txId</th>\n",
       "      <th>class</th>\n",
       "      <th>Time step</th>\n",
       "      <th>Local_feature_1</th>\n",
       "      <th>Local_feature_2</th>\n",
       "      <th>Local_feature_3</th>\n",
       "      <th>Local_feature_4</th>\n",
       "      <th>Local_feature_5</th>\n",
       "      <th>Local_feature_6</th>\n",
       "      <th>Local_feature_7</th>\n",
       "      <th>...</th>\n",
       "      <th>Aggregate_feature_63</th>\n",
       "      <th>Aggregate_feature_64</th>\n",
       "      <th>Aggregate_feature_65</th>\n",
       "      <th>Aggregate_feature_66</th>\n",
       "      <th>Aggregate_feature_67</th>\n",
       "      <th>Aggregate_feature_68</th>\n",
       "      <th>Aggregate_feature_69</th>\n",
       "      <th>Aggregate_feature_70</th>\n",
       "      <th>Aggregate_feature_71</th>\n",
       "      <th>Aggregate_feature_72</th>\n",
       "    </tr>\n",
       "  </thead>\n",
       "  <tbody>\n",
       "    <tr>\n",
       "      <th>0</th>\n",
       "      <td>230425980</td>\n",
       "      <td>0</td>\n",
       "      <td>1</td>\n",
       "      <td>-0.171469</td>\n",
       "      <td>-0.184668</td>\n",
       "      <td>-1.201369</td>\n",
       "      <td>-0.121970</td>\n",
       "      <td>-0.043875</td>\n",
       "      <td>-0.113002</td>\n",
       "      <td>-0.061584</td>\n",
       "      <td>...</td>\n",
       "      <td>-0.562153</td>\n",
       "      <td>-0.600999</td>\n",
       "      <td>1.461330</td>\n",
       "      <td>1.461369</td>\n",
       "      <td>0.018279</td>\n",
       "      <td>-0.087490</td>\n",
       "      <td>-0.131155</td>\n",
       "      <td>-0.097524</td>\n",
       "      <td>-0.120613</td>\n",
       "      <td>-0.119792</td>\n",
       "    </tr>\n",
       "    <tr>\n",
       "      <th>1</th>\n",
       "      <td>5530458</td>\n",
       "      <td>0</td>\n",
       "      <td>1</td>\n",
       "      <td>-0.171484</td>\n",
       "      <td>-0.184668</td>\n",
       "      <td>-1.201369</td>\n",
       "      <td>-0.121970</td>\n",
       "      <td>-0.043875</td>\n",
       "      <td>-0.113002</td>\n",
       "      <td>-0.061584</td>\n",
       "      <td>...</td>\n",
       "      <td>0.947382</td>\n",
       "      <td>0.673103</td>\n",
       "      <td>-0.979074</td>\n",
       "      <td>-0.978556</td>\n",
       "      <td>0.018279</td>\n",
       "      <td>-0.087490</td>\n",
       "      <td>-0.131155</td>\n",
       "      <td>-0.097524</td>\n",
       "      <td>-0.120613</td>\n",
       "      <td>-0.119792</td>\n",
       "    </tr>\n",
       "    <tr>\n",
       "      <th>2</th>\n",
       "      <td>232022460</td>\n",
       "      <td>0</td>\n",
       "      <td>1</td>\n",
       "      <td>-0.172107</td>\n",
       "      <td>-0.184668</td>\n",
       "      <td>-1.201369</td>\n",
       "      <td>-0.121970</td>\n",
       "      <td>-0.043875</td>\n",
       "      <td>-0.113002</td>\n",
       "      <td>-0.061584</td>\n",
       "      <td>...</td>\n",
       "      <td>0.670883</td>\n",
       "      <td>0.439728</td>\n",
       "      <td>-0.979074</td>\n",
       "      <td>-0.978556</td>\n",
       "      <td>-0.098889</td>\n",
       "      <td>-0.106715</td>\n",
       "      <td>-0.131155</td>\n",
       "      <td>-0.183671</td>\n",
       "      <td>-0.120613</td>\n",
       "      <td>-0.119792</td>\n",
       "    </tr>\n",
       "    <tr>\n",
       "      <th>3</th>\n",
       "      <td>232438397</td>\n",
       "      <td>2</td>\n",
       "      <td>1</td>\n",
       "      <td>0.163054</td>\n",
       "      <td>1.963790</td>\n",
       "      <td>-0.646376</td>\n",
       "      <td>12.409294</td>\n",
       "      <td>-0.063725</td>\n",
       "      <td>9.782742</td>\n",
       "      <td>12.414558</td>\n",
       "      <td>...</td>\n",
       "      <td>-0.577099</td>\n",
       "      <td>-0.613614</td>\n",
       "      <td>0.241128</td>\n",
       "      <td>0.241406</td>\n",
       "      <td>1.072793</td>\n",
       "      <td>0.085530</td>\n",
       "      <td>-0.131155</td>\n",
       "      <td>0.677799</td>\n",
       "      <td>-0.120613</td>\n",
       "      <td>-0.119792</td>\n",
       "    </tr>\n",
       "    <tr>\n",
       "      <th>4</th>\n",
       "      <td>230460314</td>\n",
       "      <td>0</td>\n",
       "      <td>1</td>\n",
       "      <td>1.011523</td>\n",
       "      <td>-0.081127</td>\n",
       "      <td>-1.201369</td>\n",
       "      <td>1.153668</td>\n",
       "      <td>0.333276</td>\n",
       "      <td>1.312656</td>\n",
       "      <td>-0.061584</td>\n",
       "      <td>...</td>\n",
       "      <td>-0.511871</td>\n",
       "      <td>-0.400422</td>\n",
       "      <td>0.517257</td>\n",
       "      <td>0.579382</td>\n",
       "      <td>0.018279</td>\n",
       "      <td>0.277775</td>\n",
       "      <td>0.326394</td>\n",
       "      <td>1.293750</td>\n",
       "      <td>0.178136</td>\n",
       "      <td>0.179117</td>\n",
       "    </tr>\n",
       "  </tbody>\n",
       "</table>\n",
       "<p>5 rows × 168 columns</p>\n",
       "</div>"
      ],
      "text/plain": [
       "        txId class  Time step  Local_feature_1  Local_feature_2  \\\n",
       "0  230425980     0          1        -0.171469        -0.184668   \n",
       "1    5530458     0          1        -0.171484        -0.184668   \n",
       "2  232022460     0          1        -0.172107        -0.184668   \n",
       "3  232438397     2          1         0.163054         1.963790   \n",
       "4  230460314     0          1         1.011523        -0.081127   \n",
       "\n",
       "   Local_feature_3  Local_feature_4  Local_feature_5  Local_feature_6  \\\n",
       "0        -1.201369        -0.121970        -0.043875        -0.113002   \n",
       "1        -1.201369        -0.121970        -0.043875        -0.113002   \n",
       "2        -1.201369        -0.121970        -0.043875        -0.113002   \n",
       "3        -0.646376        12.409294        -0.063725         9.782742   \n",
       "4        -1.201369         1.153668         0.333276         1.312656   \n",
       "\n",
       "   Local_feature_7  ...  Aggregate_feature_63  Aggregate_feature_64  \\\n",
       "0        -0.061584  ...             -0.562153             -0.600999   \n",
       "1        -0.061584  ...              0.947382              0.673103   \n",
       "2        -0.061584  ...              0.670883              0.439728   \n",
       "3        12.414558  ...             -0.577099             -0.613614   \n",
       "4        -0.061584  ...             -0.511871             -0.400422   \n",
       "\n",
       "   Aggregate_feature_65  Aggregate_feature_66  Aggregate_feature_67  \\\n",
       "0              1.461330              1.461369              0.018279   \n",
       "1             -0.979074             -0.978556              0.018279   \n",
       "2             -0.979074             -0.978556             -0.098889   \n",
       "3              0.241128              0.241406              1.072793   \n",
       "4              0.517257              0.579382              0.018279   \n",
       "\n",
       "   Aggregate_feature_68  Aggregate_feature_69  Aggregate_feature_70  \\\n",
       "0             -0.087490             -0.131155             -0.097524   \n",
       "1             -0.087490             -0.131155             -0.097524   \n",
       "2             -0.106715             -0.131155             -0.183671   \n",
       "3              0.085530             -0.131155              0.677799   \n",
       "4              0.277775              0.326394              1.293750   \n",
       "\n",
       "   Aggregate_feature_71  Aggregate_feature_72  \n",
       "0             -0.120613             -0.119792  \n",
       "1             -0.120613             -0.119792  \n",
       "2             -0.120613             -0.119792  \n",
       "3             -0.120613             -0.119792  \n",
       "4              0.178136              0.179117  \n",
       "\n",
       "[5 rows x 168 columns]"
      ]
     },
     "execution_count": 5,
     "metadata": {},
     "output_type": "execute_result"
    }
   ],
   "source": [
    "# Merge Class and features\n",
    "df_class_feature = pd.merge(df_classes, df_features )\n",
    "df_class_feature.head()"
   ]
  },
  {
   "cell_type": "markdown",
   "id": "a6a0444a",
   "metadata": {
    "papermill": {
     "duration": 0.011915,
     "end_time": "2022-12-16T04:41:39.716809",
     "exception": false,
     "start_time": "2022-12-16T04:41:39.704894",
     "status": "completed"
    },
    "tags": []
   },
   "source": [
    "# 2. Exploratory Data Analysis (EDA)"
   ]
  },
  {
   "cell_type": "code",
   "execution_count": 6,
   "id": "aceb1b76",
   "metadata": {
    "execution": {
     "iopub.execute_input": "2022-12-16T04:41:39.742082Z",
     "iopub.status.busy": "2022-12-16T04:41:39.741680Z",
     "iopub.status.idle": "2022-12-16T04:41:39.990808Z",
     "shell.execute_reply": "2022-12-16T04:41:39.989520Z"
    },
    "papermill": {
     "duration": 0.264811,
     "end_time": "2022-12-16T04:41:39.993312",
     "exception": false,
     "start_time": "2022-12-16T04:41:39.728501",
     "status": "completed"
    },
    "tags": []
   },
   "outputs": [
    {
     "data": {
      "text/plain": [
       "<BarContainer object of 3 artists>"
      ]
     },
     "execution_count": 6,
     "metadata": {},
     "output_type": "execute_result"
    },
    {
     "data": {
      "image/png": "[encoded data removed]",
      "text/plain": [
       "<Figure size 432x288 with 1 Axes>"
      ]
     },
     "metadata": {
      "needs_background": "light"
     },
     "output_type": "display_data"
    }
   ],
   "source": [
    "group_class = df_classes.groupby('class').count()\n",
    "plt.barh(['0-Unknown', '1-Ilicit', '2-Licit'], group_class['txId'].values, color=['orange', 'r', 'g'] )"
   ]
  },
  {
   "cell_type": "markdown",
   "id": "9db68023",
   "metadata": {
    "papermill": {
     "duration": 0.011758,
     "end_time": "2022-12-16T04:41:40.017559",
     "exception": false,
     "start_time": "2022-12-16T04:41:40.005801",
     "status": "completed"
    },
    "tags": []
   },
   "source": [
    "We can see that the data distribution is not uniform, and we are concerned about whether the class is legitimate for a small sample in the data set."
   ]
  },
  {
   "cell_type": "code",
   "execution_count": 7,
   "id": "9ac28618",
   "metadata": {
    "execution": {
     "iopub.execute_input": "2022-12-16T04:41:40.043568Z",
     "iopub.status.busy": "2022-12-16T04:41:40.042770Z",
     "iopub.status.idle": "2022-12-16T04:41:40.568216Z",
     "shell.execute_reply": "2022-12-16T04:41:40.566013Z"
    },
    "papermill": {
     "duration": 0.541478,
     "end_time": "2022-12-16T04:41:40.571001",
     "exception": false,
     "start_time": "2022-12-16T04:41:40.029523",
     "status": "completed"
    },
    "tags": []
   },
   "outputs": [
    {
     "data": {
      "text/plain": [
       "<AxesSubplot:xlabel='Time step'>"
      ]
     },
     "execution_count": 7,
     "metadata": {},
     "output_type": "execute_result"
    },
    {
     "data": {
      "image/png": "[encoded data removed]",
      "text/plain": [
       "<Figure size 432x288 with 1 Axes>"
      ]
     },
     "metadata": {
      "needs_background": "light"
     },
     "output_type": "display_data"
    }
   ],
   "source": [
    "group_feature = df_features.groupby('Time step').count()\n",
    "group_feature['txId'].plot()\n",
    "#plt.title('Number of transactions by Time step')"
   ]
  },
  {
   "cell_type": "markdown",
   "id": "8b5d7258",
   "metadata": {
    "papermill": {
     "duration": 0.012785,
     "end_time": "2022-12-16T04:41:40.596715",
     "exception": false,
     "start_time": "2022-12-16T04:41:40.583930",
     "status": "completed"
    },
    "tags": []
   },
   "source": [
    "We can see that with the change of time step, the fluctuation of trading is also very large, and there is a trough value at 20-30time step."
   ]
  },
  {
   "cell_type": "code",
   "execution_count": 8,
   "id": "4cdb790c",
   "metadata": {
    "execution": {
     "iopub.execute_input": "2022-12-16T04:41:40.626016Z",
     "iopub.status.busy": "2022-12-16T04:41:40.625595Z",
     "iopub.status.idle": "2022-12-16T04:41:40.934247Z",
     "shell.execute_reply": "2022-12-16T04:41:40.932937Z"
    },
    "papermill": {
     "duration": 0.32586,
     "end_time": "2022-12-16T04:41:40.936603",
     "exception": false,
     "start_time": "2022-12-16T04:41:40.610743",
     "status": "completed"
    },
    "tags": []
   },
   "outputs": [
    {
     "data": {
      "text/html": [
       "<div>\n",
       "<style scoped>\n",
       "    .dataframe tbody tr th:only-of-type {\n",
       "        vertical-align: middle;\n",
       "    }\n",
       "\n",
       "    .dataframe tbody tr th {\n",
       "        vertical-align: top;\n",
       "    }\n",
       "\n",
       "    .dataframe thead th {\n",
       "        text-align: right;\n",
       "    }\n",
       "</style>\n",
       "<table border=\"1\" class=\"dataframe\">\n",
       "  <thead>\n",
       "    <tr style=\"text-align: right;\">\n",
       "      <th></th>\n",
       "      <th>Time step</th>\n",
       "      <th>class</th>\n",
       "      <th>count</th>\n",
       "    </tr>\n",
       "  </thead>\n",
       "  <tbody>\n",
       "    <tr>\n",
       "      <th>0</th>\n",
       "      <td>1</td>\n",
       "      <td>0</td>\n",
       "      <td>5733</td>\n",
       "    </tr>\n",
       "    <tr>\n",
       "      <th>1</th>\n",
       "      <td>1</td>\n",
       "      <td>1</td>\n",
       "      <td>17</td>\n",
       "    </tr>\n",
       "    <tr>\n",
       "      <th>2</th>\n",
       "      <td>1</td>\n",
       "      <td>2</td>\n",
       "      <td>2130</td>\n",
       "    </tr>\n",
       "    <tr>\n",
       "      <th>3</th>\n",
       "      <td>2</td>\n",
       "      <td>0</td>\n",
       "      <td>3427</td>\n",
       "    </tr>\n",
       "    <tr>\n",
       "      <th>4</th>\n",
       "      <td>2</td>\n",
       "      <td>1</td>\n",
       "      <td>18</td>\n",
       "    </tr>\n",
       "  </tbody>\n",
       "</table>\n",
       "</div>"
      ],
      "text/plain": [
       "   Time step class  count\n",
       "0          1     0   5733\n",
       "1          1     1     17\n",
       "2          1     2   2130\n",
       "3          2     0   3427\n",
       "4          2     1     18"
      ]
     },
     "execution_count": 8,
     "metadata": {},
     "output_type": "execute_result"
    }
   ],
   "source": [
    "group_class_feature = df_class_feature.groupby(['Time step', 'class']).count()\n",
    "#plt.barh(['Unknown', 'Ilicit', 'Licit'], group_class['txId'].values, color=['orange', 'r', 'g'] )\n",
    "group_class_feature = group_class_feature['txId'].reset_index().rename(columns={'txId': 'count'})#unstack()\n",
    "group_class_feature.head()"
   ]
  },
  {
   "cell_type": "code",
   "execution_count": 9,
   "id": "7b4887cb",
   "metadata": {
    "execution": {
     "iopub.execute_input": "2022-12-16T04:41:40.964073Z",
     "iopub.status.busy": "2022-12-16T04:41:40.963678Z",
     "iopub.status.idle": "2022-12-16T04:41:41.285959Z",
     "shell.execute_reply": "2022-12-16T04:41:41.284791Z"
    },
    "papermill": {
     "duration": 0.33872,
     "end_time": "2022-12-16T04:41:41.288292",
     "exception": false,
     "start_time": "2022-12-16T04:41:40.949572",
     "status": "completed"
    },
    "tags": []
   },
   "outputs": [
    {
     "data": {
      "text/plain": [
       "<AxesSubplot:xlabel='Time step', ylabel='count'>"
      ]
     },
     "execution_count": 9,
     "metadata": {},
     "output_type": "execute_result"
    },
    {
     "data": {
      "image/png": "[encoded data removed]",
      "text/plain": [
       "<Figure size 432x288 with 1 Axes>"
      ]
     },
     "metadata": {
      "needs_background": "light"
     },
     "output_type": "display_data"
    }
   ],
   "source": [
    "sns.lineplot(x='Time step', y='count', hue='class', data = group_class_feature, palette=['orange', 'r', 'g'] )"
   ]
  },
  {
   "cell_type": "markdown",
   "id": "48914713",
   "metadata": {
    "papermill": {
     "duration": 0.013488,
     "end_time": "2022-12-16T04:41:41.315777",
     "exception": false,
     "start_time": "2022-12-16T04:41:41.302289",
     "status": "completed"
    },
    "tags": []
   },
   "source": [
    "Each label changes with the timestep, the change fluctuation of the transaction. As you can see, the fluctuation trends of 0-unknown and 2-Licit are similar, while 1-Ilicit maintains a steady trend of low-frequency trading, small fluctuations,"
   ]
  },
  {
   "cell_type": "code",
   "execution_count": 10,
   "id": "e598bce0",
   "metadata": {
    "execution": {
     "iopub.execute_input": "2022-12-16T04:41:41.345452Z",
     "iopub.status.busy": "2022-12-16T04:41:41.344597Z",
     "iopub.status.idle": "2022-12-16T04:41:41.827488Z",
     "shell.execute_reply": "2022-12-16T04:41:41.826437Z"
    },
    "papermill": {
     "duration": 0.50032,
     "end_time": "2022-12-16T04:41:41.829922",
     "exception": false,
     "start_time": "2022-12-16T04:41:41.329602",
     "status": "completed"
    },
    "tags": []
   },
   "outputs": [
    {
     "data": {
      "text/plain": [
       "Text(0.5, 0, 'Time step')"
      ]
     },
     "execution_count": 10,
     "metadata": {},
     "output_type": "execute_result"
    },
    {
     "data": {
      "image/png": "[encoded data removed]",
      "text/plain": [
       "<Figure size 432x288 with 1 Axes>"
      ]
     },
     "metadata": {
      "needs_background": "light"
     },
     "output_type": "display_data"
    }
   ],
   "source": [
    "class1 = group_class_feature[group_class_feature['class'] == '1']\n",
    "class2 = group_class_feature[group_class_feature['class'] == '2']\n",
    "class3 = group_class_feature[group_class_feature['class'] == 0 ]\n",
    "\n",
    "p1 = plt.bar(class3['Time step'], class3['count'], color = 'orange')\n",
    "\n",
    "p2 = plt.bar(class2['Time step'], class2['count'], color='g',\n",
    "             bottom=class3['count'])\n",
    "\n",
    "p3 = plt.bar(class1['Time step'], class1['count'], color='r',\n",
    "             bottom=np.array(class3['count'])+np.array(class2['count']))\n",
    "\n",
    "plt.xlabel('Time step')"
   ]
  },
  {
   "cell_type": "markdown",
   "id": "a7d59161",
   "metadata": {
    "papermill": {
     "duration": 0.013587,
     "end_time": "2022-12-16T04:41:41.857714",
     "exception": false,
     "start_time": "2022-12-16T04:41:41.844127",
     "status": "completed"
    },
    "tags": []
   },
   "source": [
    "The chart above shows the proportion of each type of transaction in each timestep."
   ]
  },
  {
   "cell_type": "markdown",
   "id": "968b6489",
   "metadata": {
    "papermill": {
     "duration": 0.01365,
     "end_time": "2022-12-16T04:41:41.885372",
     "exception": false,
     "start_time": "2022-12-16T04:41:41.871722",
     "status": "completed"
    },
    "tags": []
   },
   "source": [
    "# 3. Processing of data\n",
    "\n",
    "Firstly, dimension reduction is completed through ***PCA***. When supervised and semi-supervised classifiers are used, data sets need to be shred ***(7:3 is adopted)***. This operation is ***unnecessary*** for unsupervised classifiers, and data sets after PCA are directly used.\n",
    "\n",
    "**all_X** is for unsupervised classifiers\n",
    "\n",
    "**x_train** and **x_test** is for supervised and semi-supervised classifiers"
   ]
  },
  {
   "cell_type": "markdown",
   "id": "2874987b",
   "metadata": {
    "papermill": {
     "duration": 0.013533,
     "end_time": "2022-12-16T04:41:41.912938",
     "exception": false,
     "start_time": "2022-12-16T04:41:41.899405",
     "status": "completed"
    },
    "tags": []
   },
   "source": [
    "## 3.1 PCA"
   ]
  },
  {
   "cell_type": "code",
   "execution_count": 11,
   "id": "412c4017",
   "metadata": {
    "execution": {
     "iopub.execute_input": "2022-12-16T04:41:41.942525Z",
     "iopub.status.busy": "2022-12-16T04:41:41.942041Z",
     "iopub.status.idle": "2022-12-16T04:41:46.058845Z",
     "shell.execute_reply": "2022-12-16T04:41:46.057481Z"
    },
    "papermill": {
     "duration": 4.134885,
     "end_time": "2022-12-16T04:41:46.061697",
     "exception": false,
     "start_time": "2022-12-16T04:41:41.926812",
     "status": "completed"
    },
    "tags": []
   },
   "outputs": [
    {
     "name": "stdout",
     "output_type": "stream",
     "text": [
      "pca.components_ (165, 165)\n",
      "pca_var_ratio (165,)\n"
     ]
    },
    {
     "data": {
      "image/png": "[encoded data removed]",
      "text/plain": [
       "<Figure size 720x432 with 1 Axes>"
      ]
     },
     "metadata": {
      "needs_background": "light"
     },
     "output_type": "display_data"
    }
   ],
   "source": [
    "bfPCA_X = df_class_feature.drop(columns=['txId', 'Time step','class'])\n",
    "\n",
    "if __name__ == '__main__':\n",
    "    y=df_class_feature['class'].values\n",
    "    y = y.astype('int')\n",
    "    y=y.astype(np.int32)\n",
    "    pca=PCA( )\n",
    "    #pca=PCA(n_components=0.9)\n",
    "    pca.fit(bfPCA_X,y)\n",
    "    ratio=pca.explained_variance_ratio_\n",
    "    print(\"pca.components_\",pca.components_.shape)\n",
    "    print(\"pca_var_ratio\",pca.explained_variance_ratio_.shape)\n",
    "    #绘制图形\n",
    "    plt.figure (figsize= (10, 6))\n",
    "    plt.plot([i for i in range(bfPCA_X.shape[1])],\n",
    "             [np.sum(ratio[:i+1]) for i in range(bfPCA_X.shape[1])])\n",
    "    plt.xticks(np.arange(bfPCA_X.shape[1],step=5))\n",
    "    plt.yticks(np.arange(0,1.01,0.05))\n",
    "    plt.grid()\n",
    "    plt.show()"
   ]
  },
  {
   "cell_type": "markdown",
   "id": "bc5ed005",
   "metadata": {
    "papermill": {
     "duration": 0.015093,
     "end_time": "2022-12-16T04:41:46.099287",
     "exception": false,
     "start_time": "2022-12-16T04:41:46.084194",
     "status": "completed"
    },
    "tags": []
   },
   "source": [
    "Abscissa: indicates the number of reserved dimensions\n",
    "\n",
    "Ordinate: Sum of variance of all components after dimension reduction\n",
    "\n",
    "The following figure can help us choose the appropriate target dimensions. We can find that with the increase of the number of dimension reduction, the variance and proportion first increase rapidly and then increase steadily. When the number of dimensions after dimension reduction is 20, the sum of variance of all components is 90%, that is, about 10% of the information is lost."
   ]
  },
  {
   "cell_type": "code",
   "execution_count": 12,
   "id": "4fdf6d65",
   "metadata": {
    "execution": {
     "iopub.execute_input": "2022-12-16T04:41:46.135257Z",
     "iopub.status.busy": "2022-12-16T04:41:46.134859Z",
     "iopub.status.idle": "2022-12-16T04:41:50.167456Z",
     "shell.execute_reply": "2022-12-16T04:41:50.165858Z"
    },
    "papermill": {
     "duration": 4.054099,
     "end_time": "2022-12-16T04:41:50.171041",
     "exception": false,
     "start_time": "2022-12-16T04:41:46.116942",
     "status": "completed"
    },
    "tags": []
   },
   "outputs": [
    {
     "name": "stdout",
     "output_type": "stream",
     "text": [
      "Data dimensions after dimension reduction： (203769, 49)\n",
      "Reconstructed data dimensions： (203769, 165)\n",
      "CPU times: user 11.6 s, sys: 1.79 s, total: 13.4 s\n",
      "Wall time: 4.03 s\n"
     ]
    }
   ],
   "source": [
    "%%time\n",
    "pca = PCA(n_components=0.9) #n=49\n",
    "all_X = pca.fit_transform(bfPCA_X)\n",
    "#print(pca.explained_variance_ratio_)\n",
    "\n",
    "print('Data dimensions after dimension reduction：',all_X.shape)\n",
    "reconMat=pca.inverse_transform(all_X)\n",
    "print(\"Reconstructed data dimensions：\",reconMat.shape)"
   ]
  },
  {
   "cell_type": "markdown",
   "id": "2e568fdc",
   "metadata": {
    "papermill": {
     "duration": 0.014975,
     "end_time": "2022-12-16T04:41:50.201590",
     "exception": false,
     "start_time": "2022-12-16T04:41:50.186615",
     "status": "completed"
    },
    "tags": []
   },
   "source": [
    "We chose to retain 90% of the information, and we chose to reduce the dimensions from 165 to 49."
   ]
  },
  {
   "cell_type": "markdown",
   "id": "19db14b2",
   "metadata": {
    "papermill": {
     "duration": 0.014256,
     "end_time": "2022-12-16T04:41:50.230498",
     "exception": false,
     "start_time": "2022-12-16T04:41:50.216242",
     "status": "completed"
    },
    "tags": []
   },
   "source": [
    "## 3.2 Data cutting"
   ]
  },
  {
   "cell_type": "code",
   "execution_count": 13,
   "id": "d03f5b6a",
   "metadata": {
    "execution": {
     "iopub.execute_input": "2022-12-16T04:41:50.262212Z",
     "iopub.status.busy": "2022-12-16T04:41:50.261793Z",
     "iopub.status.idle": "2022-12-16T04:41:50.395244Z",
     "shell.execute_reply": "2022-12-16T04:41:50.393803Z"
    },
    "papermill": {
     "duration": 0.152201,
     "end_time": "2022-12-16T04:41:50.397789",
     "exception": false,
     "start_time": "2022-12-16T04:41:50.245588",
     "status": "completed"
    },
    "tags": []
   },
   "outputs": [],
   "source": [
    "y = y.astype('int')\n",
    "type(y)\n",
    "\n",
    "x_train, x_test , y_train, y_test = train_test_split(all_X, y, test_size = 0.3)"
   ]
  },
  {
   "cell_type": "markdown",
   "id": "5a94421e",
   "metadata": {
    "papermill": {
     "duration": 0.014438,
     "end_time": "2022-12-16T04:41:50.426938",
     "exception": false,
     "start_time": "2022-12-16T04:41:50.412500",
     "status": "completed"
    },
    "tags": []
   },
   "source": [
    "# 4. Evaluation Matrix\n"
   ]
  },
  {
   "cell_type": "markdown",
   "id": "97186d84",
   "metadata": {
    "papermill": {
     "duration": 0.014323,
     "end_time": "2022-12-16T04:41:50.455909",
     "exception": false,
     "start_time": "2022-12-16T04:41:50.441586",
     "status": "completed"
    },
    "tags": []
   },
   "source": [
    "There are different calculation methods for ***average*** parameter in multiple classification problems, which can extend the research. In addition, the ROC and AUC calculations in multiple classifications require ***one-hot coding*** in advance."
   ]
  },
  {
   "cell_type": "code",
   "execution_count": 14,
   "id": "11d867ca",
   "metadata": {
    "execution": {
     "iopub.execute_input": "2022-12-16T04:41:50.487861Z",
     "iopub.status.busy": "2022-12-16T04:41:50.487471Z",
     "iopub.status.idle": "2022-12-16T04:41:50.503241Z",
     "shell.execute_reply": "2022-12-16T04:41:50.502117Z"
    },
    "papermill": {
     "duration": 0.035006,
     "end_time": "2022-12-16T04:41:50.505575",
     "exception": false,
     "start_time": "2022-12-16T04:41:50.470569",
     "status": "completed"
    },
    "tags": []
   },
   "outputs": [],
   "source": [
    "def summary(Y_test,Y_hat):\n",
    "    print('accuracy',accuracy_score(Y_test,Y_hat))\n",
    "    print('precision',precision_score(Y_test,Y_hat,average='macro'))\n",
    "    print('recall',recall_score(Y_test,Y_hat,average='macro'))\n",
    "    print('f1_score',f1_score(Y_test,Y_hat,average='macro'))\n",
    "    ###Calculate AUC\n",
    "    ###One-hot encoding\n",
    "    encoder = LabelBinarizer()\n",
    "    Y_test_onehot = encoder.fit_transform(Y_test)\n",
    "    Y_hat_onehot=encoder.fit_transform(Y_hat)\n",
    "    print('AUC',roc_auc_score(Y_test_onehot,Y_hat_onehot,multi_class='ovr'))\n",
    "    \n",
    "    \n",
    "    #Compute ROC curve and ROC area for each class\n",
    "    nb_classes=3\n",
    "    fpr = dict()\n",
    "    tpr = dict()\n",
    "    roc_auc = dict()\n",
    "    for i in range(nb_classes):\n",
    "        fpr[i], tpr[i], _ = roc_curve(Y_test_onehot[:, i], Y_hat_onehot[:, i])\n",
    "        roc_auc[i] = auc(fpr[i], tpr[i])\n",
    "    \n",
    "    # Compute macro-average ROC curve and ROC area\n",
    "\n",
    "    # First aggregate all false positive rates\n",
    "    all_fpr = np.unique(np.concatenate([fpr[i] for i in range(nb_classes)]))\n",
    "\n",
    "    # Then interpolate all ROC curves at this points\n",
    "    mean_tpr = np.zeros_like(all_fpr)\n",
    "    for i in range(nb_classes):\n",
    "        mean_tpr += interp(all_fpr, fpr[i], tpr[i])\n",
    "\n",
    "    # Finally average it and compute AUC\n",
    "    mean_tpr /= nb_classes\n",
    "\n",
    "    fpr[\"macro\"] = all_fpr\n",
    "    tpr[\"macro\"] = mean_tpr\n",
    "    roc_auc[\"macro\"] = auc(fpr[\"macro\"], tpr[\"macro\"])\n",
    "    \n",
    "    # Plot all ROC curves\n",
    "    lw = 2\n",
    "    plt.figure()\n",
    "\n",
    "    plt.plot(fpr[\"macro\"], tpr[\"macro\"],\n",
    "         label='macro-average ROC curve (area = {0:0.2f})'\n",
    "               ''.format(roc_auc[\"macro\"]),\n",
    "         color='navy', linestyle=':', linewidth=4)\n",
    "\n",
    "    colors = cycle(['aqua', 'darkorange', 'cornflowerblue'])\n",
    "    for i, color in zip(range(nb_classes), colors):\n",
    "        plt.plot(fpr[i], tpr[i], color=color, lw=lw,\n",
    "             label='ROC curve of class {0} (area = {1:0.2f})'\n",
    "             ''.format(i, roc_auc[i]))\n",
    "\n",
    "    plt.plot([0, 1], [0, 1], 'k--', lw=lw)\n",
    "    plt.xlim([0.0, 1.0])\n",
    "    plt.ylim([0.0, 1.05])\n",
    "    plt.xlabel('False Positive Rate')\n",
    "    plt.ylabel('True Positive Rate')\n",
    "    #plt.title('Some extension of Receiver operating characteristic to multi-class')\n",
    "    plt.legend(loc=\"lower right\")\n",
    "    #plt.savefig(\"../images/ROC/ROC_3分类.png\")\n",
    "    plt.show()"
   ]
  },
  {
   "cell_type": "markdown",
   "id": "b0df2ef0",
   "metadata": {
    "papermill": {
     "duration": 0.014324,
     "end_time": "2022-12-16T04:41:50.534592",
     "exception": false,
     "start_time": "2022-12-16T04:41:50.520268",
     "status": "completed"
    },
    "tags": []
   },
   "source": [
    "Graphs:\n",
    "\n",
    "Ilicit transactions at time step 20"
   ]
  },
  {
   "cell_type": "code",
   "execution_count": 15,
   "id": "24bebd78",
   "metadata": {
    "execution": {
     "iopub.execute_input": "2022-12-16T04:41:50.566339Z",
     "iopub.status.busy": "2022-12-16T04:41:50.565401Z",
     "iopub.status.idle": "2022-12-16T04:41:50.634982Z",
     "shell.execute_reply": "2022-12-16T04:41:50.633811Z"
    },
    "papermill": {
     "duration": 0.088329,
     "end_time": "2022-12-16T04:41:50.637520",
     "exception": false,
     "start_time": "2022-12-16T04:41:50.549191",
     "status": "completed"
    },
    "tags": []
   },
   "outputs": [
    {
     "data": {
      "text/html": [
       "<div>\n",
       "<style scoped>\n",
       "    .dataframe tbody tr th:only-of-type {\n",
       "        vertical-align: middle;\n",
       "    }\n",
       "\n",
       "    .dataframe tbody tr th {\n",
       "        vertical-align: top;\n",
       "    }\n",
       "\n",
       "    .dataframe thead th {\n",
       "        text-align: right;\n",
       "    }\n",
       "</style>\n",
       "<table border=\"1\" class=\"dataframe\">\n",
       "  <thead>\n",
       "    <tr style=\"text-align: right;\">\n",
       "      <th></th>\n",
       "      <th>txId</th>\n",
       "      <th>class</th>\n",
       "      <th>Time step</th>\n",
       "      <th>Local_feature_1</th>\n",
       "      <th>Local_feature_2</th>\n",
       "      <th>Local_feature_3</th>\n",
       "      <th>Local_feature_4</th>\n",
       "      <th>Local_feature_5</th>\n",
       "      <th>Local_feature_6</th>\n",
       "      <th>Local_feature_7</th>\n",
       "      <th>...</th>\n",
       "      <th>Aggregate_feature_63</th>\n",
       "      <th>Aggregate_feature_64</th>\n",
       "      <th>Aggregate_feature_65</th>\n",
       "      <th>Aggregate_feature_66</th>\n",
       "      <th>Aggregate_feature_67</th>\n",
       "      <th>Aggregate_feature_68</th>\n",
       "      <th>Aggregate_feature_69</th>\n",
       "      <th>Aggregate_feature_70</th>\n",
       "      <th>Aggregate_feature_71</th>\n",
       "      <th>Aggregate_feature_72</th>\n",
       "    </tr>\n",
       "  </thead>\n",
       "  <tbody>\n",
       "    <tr>\n",
       "      <th>0</th>\n",
       "      <td>230425980</td>\n",
       "      <td>0</td>\n",
       "      <td>1</td>\n",
       "      <td>-0.171469</td>\n",
       "      <td>-0.184668</td>\n",
       "      <td>-1.201369</td>\n",
       "      <td>-0.121970</td>\n",
       "      <td>-0.043875</td>\n",
       "      <td>-0.113002</td>\n",
       "      <td>-0.061584</td>\n",
       "      <td>...</td>\n",
       "      <td>-0.562153</td>\n",
       "      <td>-0.600999</td>\n",
       "      <td>1.461330</td>\n",
       "      <td>1.461369</td>\n",
       "      <td>0.018279</td>\n",
       "      <td>-0.087490</td>\n",
       "      <td>-0.131155</td>\n",
       "      <td>-0.097524</td>\n",
       "      <td>-0.120613</td>\n",
       "      <td>-0.119792</td>\n",
       "    </tr>\n",
       "    <tr>\n",
       "      <th>1</th>\n",
       "      <td>5530458</td>\n",
       "      <td>0</td>\n",
       "      <td>1</td>\n",
       "      <td>-0.171484</td>\n",
       "      <td>-0.184668</td>\n",
       "      <td>-1.201369</td>\n",
       "      <td>-0.121970</td>\n",
       "      <td>-0.043875</td>\n",
       "      <td>-0.113002</td>\n",
       "      <td>-0.061584</td>\n",
       "      <td>...</td>\n",
       "      <td>0.947382</td>\n",
       "      <td>0.673103</td>\n",
       "      <td>-0.979074</td>\n",
       "      <td>-0.978556</td>\n",
       "      <td>0.018279</td>\n",
       "      <td>-0.087490</td>\n",
       "      <td>-0.131155</td>\n",
       "      <td>-0.097524</td>\n",
       "      <td>-0.120613</td>\n",
       "      <td>-0.119792</td>\n",
       "    </tr>\n",
       "    <tr>\n",
       "      <th>2</th>\n",
       "      <td>232022460</td>\n",
       "      <td>0</td>\n",
       "      <td>1</td>\n",
       "      <td>-0.172107</td>\n",
       "      <td>-0.184668</td>\n",
       "      <td>-1.201369</td>\n",
       "      <td>-0.121970</td>\n",
       "      <td>-0.043875</td>\n",
       "      <td>-0.113002</td>\n",
       "      <td>-0.061584</td>\n",
       "      <td>...</td>\n",
       "      <td>0.670883</td>\n",
       "      <td>0.439728</td>\n",
       "      <td>-0.979074</td>\n",
       "      <td>-0.978556</td>\n",
       "      <td>-0.098889</td>\n",
       "      <td>-0.106715</td>\n",
       "      <td>-0.131155</td>\n",
       "      <td>-0.183671</td>\n",
       "      <td>-0.120613</td>\n",
       "      <td>-0.119792</td>\n",
       "    </tr>\n",
       "    <tr>\n",
       "      <th>3</th>\n",
       "      <td>232438397</td>\n",
       "      <td>2</td>\n",
       "      <td>1</td>\n",
       "      <td>0.163054</td>\n",
       "      <td>1.963790</td>\n",
       "      <td>-0.646376</td>\n",
       "      <td>12.409294</td>\n",
       "      <td>-0.063725</td>\n",
       "      <td>9.782742</td>\n",
       "      <td>12.414558</td>\n",
       "      <td>...</td>\n",
       "      <td>-0.577099</td>\n",
       "      <td>-0.613614</td>\n",
       "      <td>0.241128</td>\n",
       "      <td>0.241406</td>\n",
       "      <td>1.072793</td>\n",
       "      <td>0.085530</td>\n",
       "      <td>-0.131155</td>\n",
       "      <td>0.677799</td>\n",
       "      <td>-0.120613</td>\n",
       "      <td>-0.119792</td>\n",
       "    </tr>\n",
       "    <tr>\n",
       "      <th>4</th>\n",
       "      <td>230460314</td>\n",
       "      <td>0</td>\n",
       "      <td>1</td>\n",
       "      <td>1.011523</td>\n",
       "      <td>-0.081127</td>\n",
       "      <td>-1.201369</td>\n",
       "      <td>1.153668</td>\n",
       "      <td>0.333276</td>\n",
       "      <td>1.312656</td>\n",
       "      <td>-0.061584</td>\n",
       "      <td>...</td>\n",
       "      <td>-0.511871</td>\n",
       "      <td>-0.400422</td>\n",
       "      <td>0.517257</td>\n",
       "      <td>0.579382</td>\n",
       "      <td>0.018279</td>\n",
       "      <td>0.277775</td>\n",
       "      <td>0.326394</td>\n",
       "      <td>1.293750</td>\n",
       "      <td>0.178136</td>\n",
       "      <td>0.179117</td>\n",
       "    </tr>\n",
       "    <tr>\n",
       "      <th>...</th>\n",
       "      <td>...</td>\n",
       "      <td>...</td>\n",
       "      <td>...</td>\n",
       "      <td>...</td>\n",
       "      <td>...</td>\n",
       "      <td>...</td>\n",
       "      <td>...</td>\n",
       "      <td>...</td>\n",
       "      <td>...</td>\n",
       "      <td>...</td>\n",
       "      <td>...</td>\n",
       "      <td>...</td>\n",
       "      <td>...</td>\n",
       "      <td>...</td>\n",
       "      <td>...</td>\n",
       "      <td>...</td>\n",
       "      <td>...</td>\n",
       "      <td>...</td>\n",
       "      <td>...</td>\n",
       "      <td>...</td>\n",
       "      <td>...</td>\n",
       "    </tr>\n",
       "    <tr>\n",
       "      <th>203764</th>\n",
       "      <td>173077460</td>\n",
       "      <td>0</td>\n",
       "      <td>49</td>\n",
       "      <td>-0.145771</td>\n",
       "      <td>-0.163752</td>\n",
       "      <td>0.463609</td>\n",
       "      <td>-0.121970</td>\n",
       "      <td>-0.043875</td>\n",
       "      <td>-0.113002</td>\n",
       "      <td>-0.061584</td>\n",
       "      <td>...</td>\n",
       "      <td>-0.577099</td>\n",
       "      <td>-0.613614</td>\n",
       "      <td>0.241128</td>\n",
       "      <td>0.241406</td>\n",
       "      <td>0.018279</td>\n",
       "      <td>-0.087490</td>\n",
       "      <td>-0.131155</td>\n",
       "      <td>-0.097524</td>\n",
       "      <td>-0.120613</td>\n",
       "      <td>-0.119792</td>\n",
       "    </tr>\n",
       "    <tr>\n",
       "      <th>203765</th>\n",
       "      <td>158577750</td>\n",
       "      <td>0</td>\n",
       "      <td>49</td>\n",
       "      <td>-0.165920</td>\n",
       "      <td>-0.123607</td>\n",
       "      <td>1.018602</td>\n",
       "      <td>-0.121970</td>\n",
       "      <td>-0.043875</td>\n",
       "      <td>-0.113002</td>\n",
       "      <td>-0.061584</td>\n",
       "      <td>...</td>\n",
       "      <td>0.162722</td>\n",
       "      <td>0.010822</td>\n",
       "      <td>1.461330</td>\n",
       "      <td>1.461369</td>\n",
       "      <td>-0.098889</td>\n",
       "      <td>-0.087490</td>\n",
       "      <td>-0.084674</td>\n",
       "      <td>-0.140597</td>\n",
       "      <td>-1.760926</td>\n",
       "      <td>-1.760984</td>\n",
       "    </tr>\n",
       "    <tr>\n",
       "      <th>203766</th>\n",
       "      <td>158375402</td>\n",
       "      <td>1</td>\n",
       "      <td>49</td>\n",
       "      <td>-0.172014</td>\n",
       "      <td>-0.078182</td>\n",
       "      <td>1.018602</td>\n",
       "      <td>0.028105</td>\n",
       "      <td>-0.043875</td>\n",
       "      <td>0.054722</td>\n",
       "      <td>-0.061584</td>\n",
       "      <td>...</td>\n",
       "      <td>1.261246</td>\n",
       "      <td>1.985050</td>\n",
       "      <td>1.461330</td>\n",
       "      <td>1.461369</td>\n",
       "      <td>0.018279</td>\n",
       "      <td>-0.087490</td>\n",
       "      <td>-0.131155</td>\n",
       "      <td>-0.097524</td>\n",
       "      <td>-0.120613</td>\n",
       "      <td>-0.119792</td>\n",
       "    </tr>\n",
       "    <tr>\n",
       "      <th>203767</th>\n",
       "      <td>158654197</td>\n",
       "      <td>0</td>\n",
       "      <td>49</td>\n",
       "      <td>-0.172842</td>\n",
       "      <td>-0.176622</td>\n",
       "      <td>1.018602</td>\n",
       "      <td>-0.121970</td>\n",
       "      <td>-0.043875</td>\n",
       "      <td>-0.113002</td>\n",
       "      <td>-0.061584</td>\n",
       "      <td>...</td>\n",
       "      <td>-0.397749</td>\n",
       "      <td>-0.411776</td>\n",
       "      <td>1.461330</td>\n",
       "      <td>1.461369</td>\n",
       "      <td>-0.098889</td>\n",
       "      <td>-0.087490</td>\n",
       "      <td>-0.084674</td>\n",
       "      <td>-0.140597</td>\n",
       "      <td>1.519700</td>\n",
       "      <td>1.521399</td>\n",
       "    </tr>\n",
       "    <tr>\n",
       "      <th>203768</th>\n",
       "      <td>157597225</td>\n",
       "      <td>0</td>\n",
       "      <td>49</td>\n",
       "      <td>-0.012037</td>\n",
       "      <td>-0.132276</td>\n",
       "      <td>0.463609</td>\n",
       "      <td>-0.121970</td>\n",
       "      <td>-0.043875</td>\n",
       "      <td>-0.113002</td>\n",
       "      <td>-0.061584</td>\n",
       "      <td>...</td>\n",
       "      <td>-0.577099</td>\n",
       "      <td>-0.613614</td>\n",
       "      <td>0.241128</td>\n",
       "      <td>0.241406</td>\n",
       "      <td>-0.098889</td>\n",
       "      <td>-0.087490</td>\n",
       "      <td>-0.084674</td>\n",
       "      <td>-0.140597</td>\n",
       "      <td>1.519700</td>\n",
       "      <td>1.521399</td>\n",
       "    </tr>\n",
       "  </tbody>\n",
       "</table>\n",
       "<p>203769 rows × 168 columns</p>\n",
       "</div>"
      ],
      "text/plain": [
       "             txId class  Time step  Local_feature_1  Local_feature_2  \\\n",
       "0       230425980     0          1        -0.171469        -0.184668   \n",
       "1         5530458     0          1        -0.171484        -0.184668   \n",
       "2       232022460     0          1        -0.172107        -0.184668   \n",
       "3       232438397     2          1         0.163054         1.963790   \n",
       "4       230460314     0          1         1.011523        -0.081127   \n",
       "...           ...   ...        ...              ...              ...   \n",
       "203764  173077460     0         49        -0.145771        -0.163752   \n",
       "203765  158577750     0         49        -0.165920        -0.123607   \n",
       "203766  158375402     1         49        -0.172014        -0.078182   \n",
       "203767  158654197     0         49        -0.172842        -0.176622   \n",
       "203768  157597225     0         49        -0.012037        -0.132276   \n",
       "\n",
       "        Local_feature_3  Local_feature_4  Local_feature_5  Local_feature_6  \\\n",
       "0             -1.201369        -0.121970        -0.043875        -0.113002   \n",
       "1             -1.201369        -0.121970        -0.043875        -0.113002   \n",
       "2             -1.201369        -0.121970        -0.043875        -0.113002   \n",
       "3             -0.646376        12.409294        -0.063725         9.782742   \n",
       "4             -1.201369         1.153668         0.333276         1.312656   \n",
       "...                 ...              ...              ...              ...   \n",
       "203764         0.463609        -0.121970        -0.043875        -0.113002   \n",
       "203765         1.018602        -0.121970        -0.043875        -0.113002   \n",
       "203766         1.018602         0.028105        -0.043875         0.054722   \n",
       "203767         1.018602        -0.121970        -0.043875        -0.113002   \n",
       "203768         0.463609        -0.121970        -0.043875        -0.113002   \n",
       "\n",
       "        Local_feature_7  ...  Aggregate_feature_63  Aggregate_feature_64  \\\n",
       "0             -0.061584  ...             -0.562153             -0.600999   \n",
       "1             -0.061584  ...              0.947382              0.673103   \n",
       "2             -0.061584  ...              0.670883              0.439728   \n",
       "3             12.414558  ...             -0.577099             -0.613614   \n",
       "4             -0.061584  ...             -0.511871             -0.400422   \n",
       "...                 ...  ...                   ...                   ...   \n",
       "203764        -0.061584  ...             -0.577099             -0.613614   \n",
       "203765        -0.061584  ...              0.162722              0.010822   \n",
       "203766        -0.061584  ...              1.261246              1.985050   \n",
       "203767        -0.061584  ...             -0.397749             -0.411776   \n",
       "203768        -0.061584  ...             -0.577099             -0.613614   \n",
       "\n",
       "        Aggregate_feature_65  Aggregate_feature_66  Aggregate_feature_67  \\\n",
       "0                   1.461330              1.461369              0.018279   \n",
       "1                  -0.979074             -0.978556              0.018279   \n",
       "2                  -0.979074             -0.978556             -0.098889   \n",
       "3                   0.241128              0.241406              1.072793   \n",
       "4                   0.517257              0.579382              0.018279   \n",
       "...                      ...                   ...                   ...   \n",
       "203764              0.241128              0.241406              0.018279   \n",
       "203765              1.461330              1.461369             -0.098889   \n",
       "203766              1.461330              1.461369              0.018279   \n",
       "203767              1.461330              1.461369             -0.098889   \n",
       "203768              0.241128              0.241406             -0.098889   \n",
       "\n",
       "        Aggregate_feature_68  Aggregate_feature_69  Aggregate_feature_70  \\\n",
       "0                  -0.087490             -0.131155             -0.097524   \n",
       "1                  -0.087490             -0.131155             -0.097524   \n",
       "2                  -0.106715             -0.131155             -0.183671   \n",
       "3                   0.085530             -0.131155              0.677799   \n",
       "4                   0.277775              0.326394              1.293750   \n",
       "...                      ...                   ...                   ...   \n",
       "203764             -0.087490             -0.131155             -0.097524   \n",
       "203765             -0.087490             -0.084674             -0.140597   \n",
       "203766             -0.087490             -0.131155             -0.097524   \n",
       "203767             -0.087490             -0.084674             -0.140597   \n",
       "203768             -0.087490             -0.084674             -0.140597   \n",
       "\n",
       "        Aggregate_feature_71  Aggregate_feature_72  \n",
       "0                  -0.120613             -0.119792  \n",
       "1                  -0.120613             -0.119792  \n",
       "2                  -0.120613             -0.119792  \n",
       "3                  -0.120613             -0.119792  \n",
       "4                   0.178136              0.179117  \n",
       "...                      ...                   ...  \n",
       "203764             -0.120613             -0.119792  \n",
       "203765             -1.760926             -1.760984  \n",
       "203766             -0.120613             -0.119792  \n",
       "203767              1.519700              1.521399  \n",
       "203768              1.519700              1.521399  \n",
       "\n",
       "[203769 rows x 168 columns]"
      ]
     },
     "execution_count": 15,
     "metadata": {},
     "output_type": "execute_result"
    }
   ],
   "source": [
    "df_class_feature"
   ]
  },
  {
   "cell_type": "code",
   "execution_count": 16,
   "id": "bd89d8cb",
   "metadata": {
    "execution": {
     "iopub.execute_input": "2022-12-16T04:41:50.670654Z",
     "iopub.status.busy": "2022-12-16T04:41:50.670231Z",
     "iopub.status.idle": "2022-12-16T04:41:52.300360Z",
     "shell.execute_reply": "2022-12-16T04:41:52.299075Z"
    },
    "papermill": {
     "duration": 1.649545,
     "end_time": "2022-12-16T04:41:52.303016",
     "exception": false,
     "start_time": "2022-12-16T04:41:50.653471",
     "status": "completed"
    },
    "tags": []
   },
   "outputs": [
    {
     "data": {
      "image/png": "[encoded data removed]",
      "text/plain": [
       "<Figure size 432x288 with 1 Axes>"
      ]
     },
     "metadata": {},
     "output_type": "display_data"
    }
   ],
   "source": [
    "ilicit_ids = df_class_feature.loc[(df_class_feature['Time step'] == 20) & (df_class_feature['class'] == '1'), 'txId']\n",
    "ilicit_edges = df_edges.loc[df_edges['txId1'].isin(ilicit_ids)]\n",
    "\n",
    "graph = nx.from_pandas_edgelist(ilicit_edges, source = 'txId1', target = 'txId2', \n",
    "                                 create_using = nx.DiGraph())\n",
    "pos = nx.spring_layout(graph)\n",
    "nx.draw(graph, with_labels=False, pos=pos)"
   ]
  },
  {
   "cell_type": "markdown",
   "id": "e06ab5ef",
   "metadata": {
    "papermill": {
     "duration": 0.015638,
     "end_time": "2022-12-16T04:41:52.335530",
     "exception": false,
     "start_time": "2022-12-16T04:41:52.319892",
     "status": "completed"
    },
    "tags": []
   },
   "source": [
    "Prediction of ilicit transactions"
   ]
  },
  {
   "cell_type": "markdown",
   "id": "8e494e3c",
   "metadata": {
    "papermill": {
     "duration": 0.015632,
     "end_time": "2022-12-16T04:41:52.367251",
     "exception": false,
     "start_time": "2022-12-16T04:41:52.351619",
     "status": "completed"
    },
    "tags": []
   },
   "source": [
    "# 5. Supervised Classifier"
   ]
  },
  {
   "cell_type": "markdown",
   "id": "6d788aad",
   "metadata": {
    "papermill": {
     "duration": 0.015565,
     "end_time": "2022-12-16T04:41:52.399018",
     "exception": false,
     "start_time": "2022-12-16T04:41:52.383453",
     "status": "completed"
    },
    "tags": []
   },
   "source": [
    "## 5.1 KNN "
   ]
  },
  {
   "cell_type": "markdown",
   "id": "b901f2f4",
   "metadata": {
    "papermill": {
     "duration": 0.015832,
     "end_time": "2022-12-16T04:41:52.431099",
     "exception": false,
     "start_time": "2022-12-16T04:41:52.415267",
     "status": "completed"
    },
    "tags": []
   },
   "source": [
    "参数选择"
   ]
  },
  {
   "cell_type": "code",
   "execution_count": 17,
   "id": "0d631503",
   "metadata": {
    "execution": {
     "iopub.execute_input": "2022-12-16T04:41:52.466496Z",
     "iopub.status.busy": "2022-12-16T04:41:52.465599Z",
     "iopub.status.idle": "2022-12-16T04:41:52.472183Z",
     "shell.execute_reply": "2022-12-16T04:41:52.470973Z"
    },
    "papermill": {
     "duration": 0.026649,
     "end_time": "2022-12-16T04:41:52.474582",
     "exception": false,
     "start_time": "2022-12-16T04:41:52.447933",
     "status": "completed"
    },
    "tags": []
   },
   "outputs": [
    {
     "data": {
      "text/plain": [
       "'best K value is：7 accuracy is：0.90\\nCPU times: user 47min 43s, sys: 14min 38s, total: 1h 2min 21s\\nWall time: 50min 1s'"
      ]
     },
     "execution_count": 17,
     "metadata": {},
     "output_type": "execute_result"
    }
   ],
   "source": [
    "#parameter = {'n_neighbors':[1,3,5,7,9,11,13]}\n",
    "#knn = KNeighborsClassifier()\n",
    "\n",
    "#clf = GridSearchCV(knn,parameter,cv=5)\n",
    "#clf.fit(x_train, y_train)\n",
    "\n",
    "#print(f'best K value is：{(clf.best_params_)[\"n_neighbors\"]}',\"accuracy is：%.2f\"%clf.best_score_)\n",
    "\"\"\"best K value is：7 accuracy is：0.90\n",
    "CPU times: user 47min 43s, sys: 14min 38s, total: 1h 2min 21s\n",
    "Wall time: 50min 1s\"\"\""
   ]
  },
  {
   "cell_type": "code",
   "execution_count": 18,
   "id": "da4a9a19",
   "metadata": {
    "execution": {
     "iopub.execute_input": "2022-12-16T04:41:52.509483Z",
     "iopub.status.busy": "2022-12-16T04:41:52.508868Z",
     "iopub.status.idle": "2022-12-16T04:44:52.521007Z",
     "shell.execute_reply": "2022-12-16T04:44:52.519883Z"
    },
    "papermill": {
     "duration": 180.032611,
     "end_time": "2022-12-16T04:44:52.523672",
     "exception": false,
     "start_time": "2022-12-16T04:41:52.491061",
     "status": "completed"
    },
    "tags": []
   },
   "outputs": [
    {
     "name": "stdout",
     "output_type": "stream",
     "text": [
      "accuracy 0.9000507107686772\n",
      "precision 0.8154012211555276\n",
      "recall 0.7207378320247969\n",
      "f1_score 0.7606918002641271\n",
      "AUC 0.8012248486223116\n"
     ]
    },
    {
     "name": "stderr",
     "output_type": "stream",
     "text": [
      "/opt/conda/lib/python3.7/site-packages/ipykernel_launcher.py:31: DeprecationWarning: scipy.interp is deprecated and will be removed in SciPy 2.0.0, use numpy.interp instead\n"
     ]
    },
    {
     "data": {
      "image/png": "[encoded data removed]",
      "text/plain": [
       "<Figure size 432x288 with 1 Axes>"
      ]
     },
     "metadata": {
      "needs_background": "light"
     },
     "output_type": "display_data"
    },
    {
     "name": "stdout",
     "output_type": "stream",
     "text": [
      "CPU times: user 3min 26s, sys: 1min 19s, total: 4min 45s\n",
      "Wall time: 3min\n"
     ]
    }
   ],
   "source": [
    "%%time\n",
    "knn = KNeighborsClassifier(n_neighbors=7)    \n",
    "knn.fit(x_train, y_train)      \n",
    "y_knn=knn.predict(x_test) \n",
    "\n",
    "summary(y_test,y_knn)"
   ]
  },
  {
   "cell_type": "markdown",
   "id": "c0b98f2d",
   "metadata": {
    "papermill": {
     "duration": 0.016767,
     "end_time": "2022-12-16T04:44:52.557898",
     "exception": false,
     "start_time": "2022-12-16T04:44:52.541131",
     "status": "completed"
    },
    "tags": []
   },
   "source": [
    "## 5.2 Bayes"
   ]
  },
  {
   "cell_type": "markdown",
   "id": "541788e2",
   "metadata": {
    "papermill": {
     "duration": 0.018306,
     "end_time": "2022-12-16T04:44:52.593340",
     "exception": false,
     "start_time": "2022-12-16T04:44:52.575034",
     "status": "completed"
    },
    "tags": []
   },
   "source": [
    "Bayes doesn't need any parameters. The priors used are naive Bayes with Gaussian distribution. Generally speaking, GaussianNB is better if the distribution of sample features is mostly continuous. If most of the sample characteristics are multivariate discrete values, it is appropriate to use very high specification. If the sample features are binary discrete values or very sparse multivariate discrete values, BernoulliNB should be used."
   ]
  },
  {
   "cell_type": "code",
   "execution_count": 19,
   "id": "eda60b1c",
   "metadata": {
    "execution": {
     "iopub.execute_input": "2022-12-16T04:44:52.630675Z",
     "iopub.status.busy": "2022-12-16T04:44:52.630237Z",
     "iopub.status.idle": "2022-12-16T04:44:53.151010Z",
     "shell.execute_reply": "2022-12-16T04:44:53.149386Z"
    },
    "papermill": {
     "duration": 0.541891,
     "end_time": "2022-12-16T04:44:53.153609",
     "exception": false,
     "start_time": "2022-12-16T04:44:52.611718",
     "status": "completed"
    },
    "tags": []
   },
   "outputs": [
    {
     "name": "stdout",
     "output_type": "stream",
     "text": [
      "accuracy 0.43954785624314996\n",
      "precision 0.4659647309023544\n",
      "recall 0.5569416062184606\n",
      "f1_score 0.3747870455021765\n",
      "AUC 0.6343859294886266\n"
     ]
    },
    {
     "name": "stderr",
     "output_type": "stream",
     "text": [
      "/opt/conda/lib/python3.7/site-packages/ipykernel_launcher.py:31: DeprecationWarning: scipy.interp is deprecated and will be removed in SciPy 2.0.0, use numpy.interp instead\n"
     ]
    },
    {
     "data": {
      "image/png": "[encoded data removed]",
      "text/plain": [
       "<Figure size 432x288 with 1 Axes>"
      ]
     },
     "metadata": {
      "needs_background": "light"
     },
     "output_type": "display_data"
    },
    {
     "name": "stdout",
     "output_type": "stream",
     "text": [
      "CPU times: user 620 ms, sys: 137 ms, total: 757 ms\n",
      "Wall time: 514 ms\n"
     ]
    }
   ],
   "source": [
    "%%time\n",
    "gnb = GaussianNB().fit(x_train, y_train)\n",
    "y_nb=gnb.predict(x_test) \n",
    "\n",
    "summary(y_test,y_nb)"
   ]
  },
  {
   "cell_type": "markdown",
   "id": "4322b524",
   "metadata": {
    "papermill": {
     "duration": 0.017429,
     "end_time": "2022-12-16T04:44:53.188968",
     "exception": false,
     "start_time": "2022-12-16T04:44:53.171539",
     "status": "completed"
    },
    "tags": []
   },
   "source": [
    "## 5.3 SVM"
   ]
  },
  {
   "cell_type": "code",
   "execution_count": 20,
   "id": "6cfbea18",
   "metadata": {
    "execution": {
     "iopub.execute_input": "2022-12-16T04:44:53.226536Z",
     "iopub.status.busy": "2022-12-16T04:44:53.226125Z",
     "iopub.status.idle": "2022-12-16T05:08:52.859590Z",
     "shell.execute_reply": "2022-12-16T05:08:52.857506Z"
    },
    "papermill": {
     "duration": 1439.656109,
     "end_time": "2022-12-16T05:08:52.862862",
     "exception": false,
     "start_time": "2022-12-16T04:44:53.206753",
     "status": "completed"
    },
    "tags": []
   },
   "outputs": [
    {
     "name": "stdout",
     "output_type": "stream",
     "text": [
      "accuracy 0.9010485678297426\n",
      "precision 0.5997223240695974\n",
      "recall 0.5589627649178421\n",
      "f1_score 0.5745600572571535\n",
      "AUC 0.7152523650392633\n"
     ]
    },
    {
     "name": "stderr",
     "output_type": "stream",
     "text": [
      "/opt/conda/lib/python3.7/site-packages/ipykernel_launcher.py:31: DeprecationWarning: scipy.interp is deprecated and will be removed in SciPy 2.0.0, use numpy.interp instead\n"
     ]
    },
    {
     "data": {
      "image/png": "[encoded data removed]",
      "text/plain": [
       "<Figure size 432x288 with 1 Axes>"
      ]
     },
     "metadata": {
      "needs_background": "light"
     },
     "output_type": "display_data"
    },
    {
     "name": "stdout",
     "output_type": "stream",
     "text": [
      "CPU times: user 23min 58s, sys: 761 ms, total: 23min 59s\n",
      "Wall time: 23min 59s\n"
     ]
    }
   ],
   "source": [
    "%%time\n",
    "clf_rbf = svm.SVC(kernel='rbf')\n",
    "clf_rbf.fit(x_train, y_train)\n",
    "y_rbf=clf_rbf.predict(x_test)\n",
    "\n",
    "summary(y_test,y_rbf)"
   ]
  },
  {
   "cell_type": "code",
   "execution_count": 21,
   "id": "e28669a1",
   "metadata": {
    "execution": {
     "iopub.execute_input": "2022-12-16T05:08:52.905924Z",
     "iopub.status.busy": "2022-12-16T05:08:52.904921Z",
     "iopub.status.idle": "2022-12-16T05:57:04.828052Z",
     "shell.execute_reply": "2022-12-16T05:57:04.826924Z"
    },
    "papermill": {
     "duration": 2891.948584,
     "end_time": "2022-12-16T05:57:04.831366",
     "exception": false,
     "start_time": "2022-12-16T05:08:52.882782",
     "status": "completed"
    },
    "tags": []
   },
   "outputs": [
    {
     "name": "stdout",
     "output_type": "stream",
     "text": [
      "accuracy 0.8896304657211562\n",
      "precision 0.7335288212860488\n",
      "recall 0.5358814618890233\n",
      "f1_score 0.5584526447575832\n",
      "AUC 0.6929607894012535\n"
     ]
    },
    {
     "name": "stderr",
     "output_type": "stream",
     "text": [
      "/opt/conda/lib/python3.7/site-packages/ipykernel_launcher.py:31: DeprecationWarning: scipy.interp is deprecated and will be removed in SciPy 2.0.0, use numpy.interp instead\n"
     ]
    },
    {
     "data": {
      "image/png": "[encoded data removed]",
      "text/plain": [
       "<Figure size 432x288 with 1 Axes>"
      ]
     },
     "metadata": {
      "needs_background": "light"
     },
     "output_type": "display_data"
    },
    {
     "name": "stdout",
     "output_type": "stream",
     "text": [
      "CPU times: user 48min 10s, sys: 1.1 s, total: 48min 11s\n",
      "Wall time: 48min 11s\n"
     ]
    }
   ],
   "source": [
    "%%time\n",
    "clf_poly = svm.SVC(kernel='poly')\n",
    "clf_poly.fit(x_train, y_train)\n",
    "y_poly=clf_poly.predict(x_test) \n",
    "\n",
    "summary(y_test,y_poly)"
   ]
  },
  {
   "cell_type": "markdown",
   "id": "4bed5840",
   "metadata": {
    "papermill": {
     "duration": 0.019847,
     "end_time": "2022-12-16T05:57:04.872976",
     "exception": false,
     "start_time": "2022-12-16T05:57:04.853129",
     "status": "completed"
    },
    "tags": []
   },
   "source": [
    "## 5.4 Decision Tree"
   ]
  },
  {
   "cell_type": "code",
   "execution_count": 22,
   "id": "d406bf32",
   "metadata": {
    "execution": {
     "iopub.execute_input": "2022-12-16T05:57:04.916367Z",
     "iopub.status.busy": "2022-12-16T05:57:04.915276Z",
     "iopub.status.idle": "2022-12-16T05:57:33.703217Z",
     "shell.execute_reply": "2022-12-16T05:57:33.701711Z"
    },
    "papermill": {
     "duration": 28.812349,
     "end_time": "2022-12-16T05:57:33.705880",
     "exception": false,
     "start_time": "2022-12-16T05:57:04.893531",
     "status": "completed"
    },
    "tags": []
   },
   "outputs": [
    {
     "name": "stdout",
     "output_type": "stream",
     "text": [
      "accuracy 0.8456102468469353\n",
      "precision 0.6831049103506212\n",
      "recall 0.7012925590291731\n",
      "f1_score 0.6918340984986054\n",
      "AUC 0.7824031579031635\n"
     ]
    },
    {
     "name": "stderr",
     "output_type": "stream",
     "text": [
      "/opt/conda/lib/python3.7/site-packages/ipykernel_launcher.py:31: DeprecationWarning: scipy.interp is deprecated and will be removed in SciPy 2.0.0, use numpy.interp instead\n"
     ]
    },
    {
     "data": {
      "image/png": "[encoded data removed]",
      "text/plain": [
       "<Figure size 432x288 with 1 Axes>"
      ]
     },
     "metadata": {
      "needs_background": "light"
     },
     "output_type": "display_data"
    },
    {
     "name": "stdout",
     "output_type": "stream",
     "text": [
      "CPU times: user 28.8 s, sys: 181 ms, total: 29 s\n",
      "Wall time: 28.8 s\n"
     ]
    }
   ],
   "source": [
    "%%time\n",
    "clf_cart = DecisionTreeClassifier(random_state=0, criterion=\"gini\")\n",
    "clf_cart.fit(x_train, y_train)\n",
    "y_cart=clf_cart.predict(x_test) \n",
    "\n",
    "summary(y_test,y_cart)"
   ]
  },
  {
   "cell_type": "markdown",
   "id": "a30c1d89",
   "metadata": {
    "papermill": {
     "duration": 0.021944,
     "end_time": "2022-12-16T05:57:33.749483",
     "exception": false,
     "start_time": "2022-12-16T05:57:33.727539",
     "status": "completed"
    },
    "tags": []
   },
   "source": [
    "# 6. Unsupervised Classifier"
   ]
  },
  {
   "cell_type": "markdown",
   "id": "17defc6c",
   "metadata": {
    "papermill": {
     "duration": 0.022034,
     "end_time": "2022-12-16T05:57:33.793641",
     "exception": false,
     "start_time": "2022-12-16T05:57:33.771607",
     "status": "completed"
    },
    "tags": []
   },
   "source": [
    "## 6.1 K-means"
   ]
  },
  {
   "cell_type": "code",
   "execution_count": 23,
   "id": "49713360",
   "metadata": {
    "execution": {
     "iopub.execute_input": "2022-12-16T05:57:33.840364Z",
     "iopub.status.busy": "2022-12-16T05:57:33.839959Z",
     "iopub.status.idle": "2022-12-16T05:58:36.808947Z",
     "shell.execute_reply": "2022-12-16T05:58:36.807461Z"
    },
    "papermill": {
     "duration": 62.995429,
     "end_time": "2022-12-16T05:58:36.811426",
     "exception": false,
     "start_time": "2022-12-16T05:57:33.815997",
     "status": "completed"
    },
    "tags": []
   },
   "outputs": [
    {
     "name": "stdout",
     "output_type": "stream",
     "text": [
      "accuracy 0.2231939107518808\n",
      "precision 0.34205333007368605\n",
      "recall 0.3517339166528272\n",
      "f1_score 0.2047654236416719\n",
      "AUC 0.5106283301923741\n"
     ]
    },
    {
     "name": "stderr",
     "output_type": "stream",
     "text": [
      "/opt/conda/lib/python3.7/site-packages/ipykernel_launcher.py:31: DeprecationWarning: scipy.interp is deprecated and will be removed in SciPy 2.0.0, use numpy.interp instead\n"
     ]
    },
    {
     "data": {
      "image/png": "[encoded data removed]",
      "text/plain": [
       "<Figure size 432x288 with 1 Axes>"
      ]
     },
     "metadata": {
      "needs_background": "light"
     },
     "output_type": "display_data"
    },
    {
     "name": "stdout",
     "output_type": "stream",
     "text": [
      "CPU times: user 1min 47s, sys: 1min 23s, total: 3min 10s\n",
      "Wall time: 1min 2s\n"
     ]
    }
   ],
   "source": [
    "%%time\n",
    "points = pd.DataFrame(all_X)\n",
    "##The original data is normalized\n",
    "data=whiten(points)\n",
    "##The kmeans function is used for clustering. The first dimension is the data and the second dimension is the number of clustering k.\n",
    "centroid = kmeans(data,3)[0]#3class\n",
    "#print(centroid)\n",
    "##The vq function is used to classify all data according to the clustering center. The output of vq is also two-dimensional, and [0] represents the label of all data\n",
    "y_km=vq(data,centroid)[0]\n",
    "#label\n",
    "\n",
    "summary(y,y_km)"
   ]
  },
  {
   "cell_type": "markdown",
   "id": "433c3804",
   "metadata": {
    "papermill": {
     "duration": 0.021428,
     "end_time": "2022-12-16T05:58:36.855310",
     "exception": false,
     "start_time": "2022-12-16T05:58:36.833882",
     "status": "completed"
    },
    "tags": []
   },
   "source": [
    "## 6.2 DBSCAN"
   ]
  },
  {
   "cell_type": "code",
   "execution_count": 24,
   "id": "360afa23",
   "metadata": {
    "execution": {
     "iopub.execute_input": "2022-12-16T05:58:36.901287Z",
     "iopub.status.busy": "2022-12-16T05:58:36.900917Z",
     "iopub.status.idle": "2022-12-16T05:58:36.905649Z",
     "shell.execute_reply": "2022-12-16T05:58:36.904483Z"
    },
    "papermill": {
     "duration": 0.030417,
     "end_time": "2022-12-16T05:58:36.907967",
     "exception": false,
     "start_time": "2022-12-16T05:58:36.877550",
     "status": "completed"
    },
    "tags": []
   },
   "outputs": [],
   "source": [
    "#%%time\n",
    "#def select_MinPts(data,k):\n",
    "#    k_dist = []\n",
    "#    for i in tqdm(range(data.shape[0])):\n",
    "#        dist = (((data[i] - data)**2).sum(axis=1)**0.5)\n",
    "#        dist.sort()\n",
    "#        k_dist.append(dist[k])\n",
    "#    return np.array(k_dist)\n",
    "\n",
    "#k = 97  # 此处k取 2*49 -1 \n",
    "#k_dist = select_MinPts(all_X,k)\n",
    "#k_dist.sort()\n",
    "#plt.plot(np.arange(k_dist.shape[0]),k_dist[::-1])"
   ]
  },
  {
   "cell_type": "code",
   "execution_count": 25,
   "id": "a15ffd14",
   "metadata": {
    "execution": {
     "iopub.execute_input": "2022-12-16T05:58:36.954527Z",
     "iopub.status.busy": "2022-12-16T05:58:36.954139Z",
     "iopub.status.idle": "2022-12-16T05:58:36.960666Z",
     "shell.execute_reply": "2022-12-16T05:58:36.959555Z"
    },
    "papermill": {
     "duration": 0.031921,
     "end_time": "2022-12-16T05:58:36.962841",
     "exception": false,
     "start_time": "2022-12-16T05:58:36.930920",
     "status": "completed"
    },
    "tags": []
   },
   "outputs": [
    {
     "data": {
      "text/plain": [
       "'eps is 168, memory fail'"
      ]
     },
     "execution_count": 25,
     "metadata": {},
     "output_type": "execute_result"
    }
   ],
   "source": [
    "#%%time\n",
    "## The neighborhood radius is determined by the inflection point\n",
    "#eps = k_dist[::-1][15]\n",
    "#plt.scatter(15,eps,color=\"r\")\n",
    "#plt.plot([0,15],[eps,eps],linestyle=\"--\",color = \"r\")\n",
    "#plt.plot([15,15],[0,eps],linestyle=\"--\",color = \"r\")\n",
    "#plt.show()\n",
    "#print(\"eps:\",eps)\n",
    "\n",
    "\"\"\"eps is 168, memory fail\"\"\""
   ]
  },
  {
   "cell_type": "code",
   "execution_count": 26,
   "id": "966fa4b4",
   "metadata": {
    "execution": {
     "iopub.execute_input": "2022-12-16T05:58:37.008235Z",
     "iopub.status.busy": "2022-12-16T05:58:37.007868Z",
     "iopub.status.idle": "2022-12-16T05:58:37.012096Z",
     "shell.execute_reply": "2022-12-16T05:58:37.011003Z"
    },
    "papermill": {
     "duration": 0.029904,
     "end_time": "2022-12-16T05:58:37.014445",
     "exception": false,
     "start_time": "2022-12-16T05:58:36.984541",
     "status": "completed"
    },
    "tags": []
   },
   "outputs": [],
   "source": [
    "#%%time\n",
    "#dbscan = DBSCAN()\n",
    "#dbscan.fit(all_X)\n",
    "#y_db = dbscan.fit_predict(all_X)\n",
    "\n",
    "#summary(y,y_db)"
   ]
  },
  {
   "cell_type": "markdown",
   "id": "9bf0a647",
   "metadata": {
    "papermill": {
     "duration": 0.02152,
     "end_time": "2022-12-16T05:58:37.057954",
     "exception": false,
     "start_time": "2022-12-16T05:58:37.036434",
     "status": "completed"
    },
    "tags": []
   },
   "source": [
    "# 7 Semi-supervised classifier **ANN**"
   ]
  },
  {
   "cell_type": "code",
   "execution_count": 27,
   "id": "2e9376de",
   "metadata": {
    "execution": {
     "iopub.execute_input": "2022-12-16T05:58:37.104044Z",
     "iopub.status.busy": "2022-12-16T05:58:37.103639Z",
     "iopub.status.idle": "2022-12-16T07:04:50.280782Z",
     "shell.execute_reply": "2022-12-16T07:04:50.279343Z"
    },
    "papermill": {
     "duration": 3973.203635,
     "end_time": "2022-12-16T07:04:50.283779",
     "exception": false,
     "start_time": "2022-12-16T05:58:37.080144",
     "status": "completed"
    },
    "tags": []
   },
   "outputs": [
    {
     "name": "stdout",
     "output_type": "stream",
     "text": [
      "[0 0 0 0 2 0 2 0 0 0]\n",
      "[[1. 0. 0. 0.]\n",
      " [1. 0. 0. 0.]\n",
      " [1. 0. 0. 0.]\n",
      " [1. 0. 0. 0.]\n",
      " [0. 0. 1. 0.]\n",
      " [1. 0. 0. 0.]\n",
      " [0. 0. 1. 0.]\n",
      " [1. 0. 0. 0.]\n",
      " [1. 0. 0. 0.]\n",
      " [1. 0. 0. 0.]]\n"
     ]
    },
    {
     "name": "stderr",
     "output_type": "stream",
     "text": [
      "2022-12-16 05:58:37.332775: I tensorflow/core/common_runtime/process_util.cc:146] Creating new thread pool with default inter op setting: 2. Tune using inter_op_parallelism_threads for best performance.\n",
      "2022-12-16 05:58:38.163262: I tensorflow/compiler/mlir/mlir_graph_optimization_pass.cc:185] None of the MLIR Optimization Passes are enabled (registered 2)\n"
     ]
    },
    {
     "name": "stdout",
     "output_type": "stream",
     "text": [
      "Epoch 1/50\n",
      "35660/35660 - 70s - loss: 0.4195 - accuracy: 0.8576 - val_loss: 0.3502 - val_accuracy: 0.8845\n",
      "Epoch 2/50\n",
      "35660/35660 - 69s - loss: 0.3745 - accuracy: 0.8728 - val_loss: 0.3334 - val_accuracy: 0.8860\n",
      "Epoch 3/50\n",
      "35660/35660 - 72s - loss: 0.3619 - accuracy: 0.8749 - val_loss: 0.3228 - val_accuracy: 0.8889\n",
      "Epoch 4/50\n",
      "35660/35660 - 73s - loss: 0.3526 - accuracy: 0.8776 - val_loss: 0.3148 - val_accuracy: 0.8897\n",
      "Epoch 5/50\n",
      "35660/35660 - 69s - loss: 0.3450 - accuracy: 0.8794 - val_loss: 0.3130 - val_accuracy: 0.8901\n",
      "Epoch 6/50\n",
      "35660/35660 - 79s - loss: 0.3407 - accuracy: 0.8795 - val_loss: 0.3082 - val_accuracy: 0.8905\n",
      "Epoch 7/50\n",
      "35660/35660 - 78s - loss: 0.3363 - accuracy: 0.8810 - val_loss: 0.3117 - val_accuracy: 0.8923\n",
      "Epoch 8/50\n",
      "35660/35660 - 81s - loss: 0.3352 - accuracy: 0.8818 - val_loss: 0.3027 - val_accuracy: 0.8941\n",
      "Epoch 9/50\n",
      "35660/35660 - 80s - loss: 0.3309 - accuracy: 0.8827 - val_loss: 0.3019 - val_accuracy: 0.8937\n",
      "Epoch 10/50\n",
      "35660/35660 - 81s - loss: 0.3255 - accuracy: 0.8841 - val_loss: 0.3003 - val_accuracy: 0.8937\n",
      "Epoch 11/50\n",
      "35660/35660 - 79s - loss: 0.3253 - accuracy: 0.8837 - val_loss: 0.3004 - val_accuracy: 0.8946\n",
      "Epoch 12/50\n",
      "35660/35660 - 80s - loss: 0.3248 - accuracy: 0.8847 - val_loss: 0.2953 - val_accuracy: 0.8958\n",
      "Epoch 13/50\n",
      "35660/35660 - 81s - loss: 0.3251 - accuracy: 0.8833 - val_loss: 0.2948 - val_accuracy: 0.8941\n",
      "Epoch 14/50\n",
      "35660/35660 - 81s - loss: 0.3224 - accuracy: 0.8843 - val_loss: 0.2951 - val_accuracy: 0.8948\n",
      "Epoch 15/50\n",
      "35660/35660 - 78s - loss: 0.3211 - accuracy: 0.8852 - val_loss: 0.2980 - val_accuracy: 0.8944\n",
      "Epoch 16/50\n",
      "35660/35660 - 82s - loss: 0.3210 - accuracy: 0.8846 - val_loss: 0.2935 - val_accuracy: 0.8949\n",
      "Epoch 17/50\n",
      "35660/35660 - 83s - loss: 0.3192 - accuracy: 0.8849 - val_loss: 0.2970 - val_accuracy: 0.8962\n",
      "Epoch 18/50\n",
      "35660/35660 - 82s - loss: 0.3184 - accuracy: 0.8849 - val_loss: 0.2945 - val_accuracy: 0.8941\n",
      "Epoch 19/50\n",
      "35660/35660 - 81s - loss: 0.3183 - accuracy: 0.8843 - val_loss: 0.2917 - val_accuracy: 0.8952\n",
      "Epoch 20/50\n",
      "35660/35660 - 80s - loss: 0.3179 - accuracy: 0.8854 - val_loss: 0.2925 - val_accuracy: 0.8955\n",
      "Epoch 21/50\n",
      "35660/35660 - 80s - loss: 0.3166 - accuracy: 0.8850 - val_loss: 0.2957 - val_accuracy: 0.8934\n",
      "Epoch 22/50\n",
      "35660/35660 - 80s - loss: 0.3170 - accuracy: 0.8860 - val_loss: 0.2917 - val_accuracy: 0.8940\n",
      "Epoch 23/50\n",
      "35660/35660 - 79s - loss: 0.3151 - accuracy: 0.8857 - val_loss: 0.2939 - val_accuracy: 0.8932\n",
      "Epoch 24/50\n",
      "35660/35660 - 80s - loss: 0.3149 - accuracy: 0.8859 - val_loss: 0.2945 - val_accuracy: 0.8943\n",
      "Epoch 25/50\n",
      "35660/35660 - 81s - loss: 0.3143 - accuracy: 0.8868 - val_loss: 0.2888 - val_accuracy: 0.8956\n",
      "Epoch 26/50\n",
      "35660/35660 - 79s - loss: 0.3139 - accuracy: 0.8863 - val_loss: 0.2866 - val_accuracy: 0.8952\n",
      "Epoch 27/50\n",
      "35660/35660 - 79s - loss: 0.3145 - accuracy: 0.8857 - val_loss: 0.2912 - val_accuracy: 0.8956\n",
      "Epoch 28/50\n",
      "35660/35660 - 80s - loss: 0.3138 - accuracy: 0.8861 - val_loss: 0.2889 - val_accuracy: 0.8940\n",
      "Epoch 29/50\n",
      "35660/35660 - 81s - loss: 0.3124 - accuracy: 0.8869 - val_loss: 0.2894 - val_accuracy: 0.8947\n",
      "Epoch 30/50\n",
      "35660/35660 - 78s - loss: 0.3125 - accuracy: 0.8870 - val_loss: 0.2912 - val_accuracy: 0.8960\n",
      "Epoch 31/50\n",
      "35660/35660 - 80s - loss: 0.3116 - accuracy: 0.8874 - val_loss: 0.2901 - val_accuracy: 0.8952\n",
      "Epoch 32/50\n",
      "35660/35660 - 81s - loss: 0.3099 - accuracy: 0.8871 - val_loss: 0.2875 - val_accuracy: 0.8946\n",
      "Epoch 33/50\n",
      "35660/35660 - 81s - loss: 0.3105 - accuracy: 0.8870 - val_loss: 0.2883 - val_accuracy: 0.8946\n",
      "Epoch 34/50\n",
      "35660/35660 - 81s - loss: 0.3105 - accuracy: 0.8868 - val_loss: 0.2897 - val_accuracy: 0.8949\n",
      "Epoch 35/50\n",
      "35660/35660 - 81s - loss: 0.3110 - accuracy: 0.8873 - val_loss: 0.2864 - val_accuracy: 0.8961\n",
      "Epoch 36/50\n",
      "35660/35660 - 79s - loss: 0.3093 - accuracy: 0.8880 - val_loss: 0.2831 - val_accuracy: 0.8973\n",
      "Epoch 37/50\n",
      "35660/35660 - 79s - loss: 0.3096 - accuracy: 0.8877 - val_loss: 0.2846 - val_accuracy: 0.8966\n",
      "Epoch 38/50\n",
      "35660/35660 - 79s - loss: 0.3082 - accuracy: 0.8886 - val_loss: 0.2867 - val_accuracy: 0.8960\n",
      "Epoch 39/50\n",
      "35660/35660 - 78s - loss: 0.3087 - accuracy: 0.8882 - val_loss: 0.2851 - val_accuracy: 0.8961\n",
      "Epoch 40/50\n",
      "35660/35660 - 79s - loss: 0.3087 - accuracy: 0.8880 - val_loss: 0.2898 - val_accuracy: 0.8976\n",
      "Epoch 41/50\n",
      "35660/35660 - 79s - loss: 0.3097 - accuracy: 0.8878 - val_loss: 0.2865 - val_accuracy: 0.8971\n",
      "Epoch 42/50\n",
      "35660/35660 - 78s - loss: 0.3078 - accuracy: 0.8882 - val_loss: 0.2869 - val_accuracy: 0.8958\n",
      "Epoch 43/50\n",
      "35660/35660 - 79s - loss: 0.3073 - accuracy: 0.8888 - val_loss: 0.2872 - val_accuracy: 0.8950\n",
      "Epoch 44/50\n",
      "35660/35660 - 79s - loss: 0.3078 - accuracy: 0.8879 - val_loss: 0.2857 - val_accuracy: 0.8970\n",
      "Epoch 45/50\n",
      "35660/35660 - 80s - loss: 0.3072 - accuracy: 0.8882 - val_loss: 0.2831 - val_accuracy: 0.8979\n",
      "Epoch 46/50\n",
      "35660/35660 - 78s - loss: 0.3064 - accuracy: 0.8890 - val_loss: 0.2860 - val_accuracy: 0.8974\n",
      "Epoch 47/50\n",
      "35660/35660 - 81s - loss: 0.3056 - accuracy: 0.8893 - val_loss: 0.2865 - val_accuracy: 0.8972\n",
      "Epoch 48/50\n",
      "35660/35660 - 79s - loss: 0.3070 - accuracy: 0.8887 - val_loss: 0.2848 - val_accuracy: 0.8979\n",
      "Epoch 49/50\n",
      "35660/35660 - 81s - loss: 0.3062 - accuracy: 0.8892 - val_loss: 0.2850 - val_accuracy: 0.8977\n",
      "Epoch 50/50\n",
      "35660/35660 - 81s - loss: 0.3057 - accuracy: 0.8894 - val_loss: 0.2842 - val_accuracy: 0.8981\n",
      "1911/1911 - 3s - loss: 0.2842 - accuracy: 0.8981\n",
      "loss =0.2842008173465729,accuracy=0.8980550169944763\n",
      "15283/15283 - 17s\n",
      "Number of test samples:  61131\n",
      "CPU times: user 1h 9min 14s, sys: 15min 8s, total: 1h 24min 23s\n",
      "Wall time: 1h 6min 13s\n"
     ]
    }
   ],
   "source": [
    "%%time\n",
    "# The characteristic data is normalized and converted into a distribution with a mean of 0 and a standard deviation of 1\n",
    "mean=x_train.mean(axis=0)\n",
    "std=x_train.std (axis=0 )\n",
    "train_x= (x_train-mean) /std\n",
    "test_x=(x_test-mean) /std\n",
    "\n",
    "# one-hot\n",
    "train_y_ohe = np_utils.to_categorical(y_train,4)\n",
    "test_y_ohe = np_utils.to_categorical(y_test, 4)\n",
    "print(y_test[0:10])\n",
    "print(test_y_ohe[0:10])\n",
    "\n",
    "# modeling\n",
    "# Initialising the NN\n",
    "model = Sequential()\n",
    "\n",
    "# layers\n",
    "model.add(Dense(units = 16, kernel_initializer = 'uniform', activation = 'relu', input_dim = 49))\n",
    "model.add(Dense(units = 16, kernel_initializer = 'uniform', activation = 'relu'))\n",
    "model.add(Dense(units = 8, kernel_initializer = 'uniform', activation = 'relu'))\n",
    "# Disconnect some neurons to prevent overfitting\n",
    "# Hidden layer is randomly deactivated by 25%\n",
    "model.add(Dropout(0.25))\n",
    "# Add the output layer\n",
    "# Multi-type output value, specifying the activation function as softmax, returns an array of multiple probability values, each representing the probability output of a certain class\n",
    "# The output of type # 3,\n",
    "model.add(Dense(4,activation='softmax'))\n",
    "\n",
    "# Configure the network\n",
    "# The loss function specified by # is the cross entropy loss function\n",
    "# The way to optimize parameters is gradient descent\n",
    "# List of monitoring metrics\n",
    "model.compile(loss='categorical_crossentropy',optimizer='adam',metrics=[\"accuracy\"])\n",
    "\n",
    "\n",
    "\n",
    "model.fit(train_x, \n",
    "        train_y_ohe, \n",
    "        epochs=50, \n",
    "        batch_size=4, \n",
    "        verbose = 2, \n",
    "        validation_data = (test_x, test_y_ohe))\n",
    "\n",
    "\n",
    "# Evaluation\n",
    "loss, accuracy = model.evaluate(test_x, test_y_ohe, verbose=2)\n",
    "print(\"loss ={},accuracy={}\".format(loss,accuracy))\n",
    "\n",
    "# Prediciton testing\n",
    "y_ann = model.predict(test_x, batch_size=4, verbose=2).argmax(axis=1)\n",
    "print(\"Number of test samples: \",len(y_ann))"
   ]
  },
  {
   "cell_type": "code",
   "execution_count": 28,
   "id": "57ff0aa8",
   "metadata": {
    "execution": {
     "iopub.execute_input": "2022-12-16T07:04:50.347476Z",
     "iopub.status.busy": "2022-12-16T07:04:50.346080Z",
     "iopub.status.idle": "2022-12-16T07:04:50.353390Z",
     "shell.execute_reply": "2022-12-16T07:04:50.352319Z"
    },
    "papermill": {
     "duration": 0.041296,
     "end_time": "2022-12-16T07:04:50.355851",
     "exception": false,
     "start_time": "2022-12-16T07:04:50.314555",
     "status": "completed"
    },
    "tags": []
   },
   "outputs": [
    {
     "data": {
      "text/plain": [
       "array([0, 0, 0, ..., 0, 0, 0])"
      ]
     },
     "execution_count": 28,
     "metadata": {},
     "output_type": "execute_result"
    }
   ],
   "source": [
    "y_ann"
   ]
  },
  {
   "cell_type": "code",
   "execution_count": 29,
   "id": "b63cb597",
   "metadata": {
    "execution": {
     "iopub.execute_input": "2022-12-16T07:04:50.418522Z",
     "iopub.status.busy": "2022-12-16T07:04:50.418089Z",
     "iopub.status.idle": "2022-12-16T07:04:50.425794Z",
     "shell.execute_reply": "2022-12-16T07:04:50.424407Z"
    },
    "papermill": {
     "duration": 0.041517,
     "end_time": "2022-12-16T07:04:50.428146",
     "exception": false,
     "start_time": "2022-12-16T07:04:50.386629",
     "status": "completed"
    },
    "tags": []
   },
   "outputs": [
    {
     "data": {
      "text/plain": [
       "61131"
      ]
     },
     "execution_count": 29,
     "metadata": {},
     "output_type": "execute_result"
    }
   ],
   "source": [
    "len(y_test)"
   ]
  },
  {
   "cell_type": "code",
   "execution_count": 30,
   "id": "7b11f375",
   "metadata": {
    "execution": {
     "iopub.execute_input": "2022-12-16T07:04:50.490528Z",
     "iopub.status.busy": "2022-12-16T07:04:50.490040Z",
     "iopub.status.idle": "2022-12-16T07:04:50.971209Z",
     "shell.execute_reply": "2022-12-16T07:04:50.969199Z"
    },
    "papermill": {
     "duration": 0.514587,
     "end_time": "2022-12-16T07:04:50.973277",
     "exception": true,
     "start_time": "2022-12-16T07:04:50.458690",
     "status": "failed"
    },
    "tags": []
   },
   "outputs": [
    {
     "name": "stdout",
     "output_type": "stream",
     "text": [
      "accuracy 0.898054996646546\n",
      "precision 0.5902404735705254\n",
      "recall 0.5620015265325028\n",
      "f1_score 0.5732696206616498\n",
      "AUC 0.18917097269499225\n"
     ]
    },
    {
     "name": "stderr",
     "output_type": "stream",
     "text": [
      "/opt/conda/lib/python3.7/site-packages/sklearn/metrics/_classification.py:1318: UndefinedMetricWarning: Precision is ill-defined and being set to 0.0 in labels with no predicted samples. Use `zero_division` parameter to control this behavior.\n",
      "  _warn_prf(average, modifier, msg_start, len(result))\n"
     ]
    },
    {
     "ename": "IndexError",
     "evalue": "index 1 is out of bounds for axis 1 with size 1",
     "output_type": "error",
     "traceback": [
      "\u001b[0;31m---------------------------------------------------------------------------\u001b[0m",
      "\u001b[0;31mIndexError\u001b[0m                                Traceback (most recent call last)",
      "\u001b[0;32m/tmp/ipykernel_19/2276772778.py\u001b[0m in \u001b[0;36m<module>\u001b[0;34m\u001b[0m\n\u001b[0;32m----> 1\u001b[0;31m \u001b[0msummary\u001b[0m\u001b[0;34m(\u001b[0m\u001b[0my_test\u001b[0m\u001b[0;34m,\u001b[0m\u001b[0my_ann\u001b[0m\u001b[0;34m)\u001b[0m\u001b[0;34m\u001b[0m\u001b[0;34m\u001b[0m\u001b[0m\n\u001b[0m",
      "\u001b[0;32m/tmp/ipykernel_19/2890804736.py\u001b[0m in \u001b[0;36msummary\u001b[0;34m(Y_test, Y_hat)\u001b[0m\n\u001b[1;32m     18\u001b[0m     \u001b[0mroc_auc\u001b[0m \u001b[0;34m=\u001b[0m \u001b[0mdict\u001b[0m\u001b[0;34m(\u001b[0m\u001b[0;34m)\u001b[0m\u001b[0;34m\u001b[0m\u001b[0;34m\u001b[0m\u001b[0m\n\u001b[1;32m     19\u001b[0m     \u001b[0;32mfor\u001b[0m \u001b[0mi\u001b[0m \u001b[0;32min\u001b[0m \u001b[0mrange\u001b[0m\u001b[0;34m(\u001b[0m\u001b[0mnb_classes\u001b[0m\u001b[0;34m)\u001b[0m\u001b[0;34m:\u001b[0m\u001b[0;34m\u001b[0m\u001b[0;34m\u001b[0m\u001b[0m\n\u001b[0;32m---> 20\u001b[0;31m         \u001b[0mfpr\u001b[0m\u001b[0;34m[\u001b[0m\u001b[0mi\u001b[0m\u001b[0;34m]\u001b[0m\u001b[0;34m,\u001b[0m \u001b[0mtpr\u001b[0m\u001b[0;34m[\u001b[0m\u001b[0mi\u001b[0m\u001b[0;34m]\u001b[0m\u001b[0;34m,\u001b[0m \u001b[0m_\u001b[0m \u001b[0;34m=\u001b[0m \u001b[0mroc_curve\u001b[0m\u001b[0;34m(\u001b[0m\u001b[0mY_test_onehot\u001b[0m\u001b[0;34m[\u001b[0m\u001b[0;34m:\u001b[0m\u001b[0;34m,\u001b[0m \u001b[0mi\u001b[0m\u001b[0;34m]\u001b[0m\u001b[0;34m,\u001b[0m \u001b[0mY_hat_onehot\u001b[0m\u001b[0;34m[\u001b[0m\u001b[0;34m:\u001b[0m\u001b[0;34m,\u001b[0m \u001b[0mi\u001b[0m\u001b[0;34m]\u001b[0m\u001b[0;34m)\u001b[0m\u001b[0;34m\u001b[0m\u001b[0;34m\u001b[0m\u001b[0m\n\u001b[0m\u001b[1;32m     21\u001b[0m         \u001b[0mroc_auc\u001b[0m\u001b[0;34m[\u001b[0m\u001b[0mi\u001b[0m\u001b[0;34m]\u001b[0m \u001b[0;34m=\u001b[0m \u001b[0mauc\u001b[0m\u001b[0;34m(\u001b[0m\u001b[0mfpr\u001b[0m\u001b[0;34m[\u001b[0m\u001b[0mi\u001b[0m\u001b[0;34m]\u001b[0m\u001b[0;34m,\u001b[0m \u001b[0mtpr\u001b[0m\u001b[0;34m[\u001b[0m\u001b[0mi\u001b[0m\u001b[0;34m]\u001b[0m\u001b[0;34m)\u001b[0m\u001b[0;34m\u001b[0m\u001b[0;34m\u001b[0m\u001b[0m\n\u001b[1;32m     22\u001b[0m \u001b[0;34m\u001b[0m\u001b[0m\n",
      "\u001b[0;31mIndexError\u001b[0m: index 1 is out of bounds for axis 1 with size 1"
     ]
    }
   ],
   "source": [
    "summary(y_test,y_ann)"
   ]
  },
  {
   "cell_type": "markdown",
   "id": "46846c0e",
   "metadata": {
    "papermill": {
     "duration": null,
     "end_time": null,
     "exception": null,
     "start_time": null,
     "status": "pending"
    },
    "tags": []
   },
   "source": [
    "# Future work Improvements:\n",
    "On the one hand, dimension reduction can try nonlinear methods such as t-sen dimension reduction. On the other hand, after selecting a better classifier, the classification prediction of unknown tags can be made."
   ]
  }
 ],
 "metadata": {
  "kernelspec": {
   "display_name": "Python 3",
   "language": "python",
   "name": "python3"
  },
  "language_info": {
   "codemirror_mode": {
    "name": "ipython",
    "version": 3
   },
   "file_extension": ".py",
   "mimetype": "text/x-python",
   "name": "python",
   "nbconvert_exporter": "python",
   "pygments_lexer": "ipython3",
   "version": "3.7.12"
  },
  "papermill": {
   "default_parameters": {},
   "duration": 8629.699422,
   "end_time": "2022-12-16T07:04:54.157633",
   "environment_variables": {},
   "exception": true,
   "input_path": "__notebook__.ipynb",
   "output_path": "__notebook__.ipynb",
   "parameters": {},
   "start_time": "2022-12-16T04:41:04.458211",
   "version": "2.3.4"
  }
 },
 "nbformat": 4,
 "nbformat_minor": 5
}
